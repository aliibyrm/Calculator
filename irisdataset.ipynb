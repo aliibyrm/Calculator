{
 "cells": [
  {
   "cell_type": "markdown",
   "id": "966d087f",
   "metadata": {
    "papermill": {
     "duration": 0.082881,
     "end_time": "2022-03-30T05:35:51.936066",
     "exception": false,
     "start_time": "2022-03-30T05:35:51.853185",
     "status": "completed"
    },
    "tags": []
   },
   "source": [
    "## Keşifçi Veri Analizi | Becerileri Pekiştirme"
   ]
  },
  {
   "cell_type": "markdown",
   "id": "fccac495",
   "metadata": {
    "papermill": {
     "duration": 0.080945,
     "end_time": "2022-03-30T05:35:52.103328",
     "exception": false,
     "start_time": "2022-03-30T05:35:52.022383",
     "status": "completed"
    },
    "tags": []
   },
   "source": [
    "Aşağıda ihtiyacımız doğrultusunda kullanacağımız kütüphaneleri yükleyelim."
   ]
  },
  {
   "cell_type": "code",
   "execution_count": 1,
   "id": "c58ff237",
   "metadata": {
    "execution": {
     "iopub.execute_input": "2022-03-30T05:35:52.296000Z",
     "iopub.status.busy": "2022-03-30T05:35:52.294130Z",
     "iopub.status.idle": "2022-03-30T05:35:53.345706Z",
     "shell.execute_reply": "2022-03-30T05:35:53.346532Z",
     "shell.execute_reply.started": "2022-03-30T05:34:59.345205Z"
    },
    "papermill": {
     "duration": 1.160851,
     "end_time": "2022-03-30T05:35:53.346930",
     "exception": false,
     "start_time": "2022-03-30T05:35:52.186079",
     "status": "completed"
    },
    "tags": []
   },
   "outputs": [],
   "source": [
    "import numpy as np\n",
    "import seaborn as sns\n",
    "import pandas as pd\n",
    "import matplotlib.pyplot as plt"
   ]
  },
  {
   "cell_type": "markdown",
   "id": "a5341534",
   "metadata": {
    "papermill": {
     "duration": 0.081625,
     "end_time": "2022-03-30T05:35:53.513535",
     "exception": false,
     "start_time": "2022-03-30T05:35:53.431910",
     "status": "completed"
    },
    "tags": []
   },
   "source": [
    "Veri çerçevemizi bulunduğumuz dizinden yükleyelim ve bir veri çerçevesi haline getirerek df değişkenine atayalım. (pd.read_csv(...csv))"
   ]
  },
  {
   "cell_type": "code",
   "execution_count": 2,
   "id": "d5ff4c88",
   "metadata": {
    "execution": {
     "iopub.execute_input": "2022-03-30T05:35:53.678718Z",
     "iopub.status.busy": "2022-03-30T05:35:53.678064Z",
     "iopub.status.idle": "2022-03-30T05:35:53.699574Z",
     "shell.execute_reply": "2022-03-30T05:35:53.700201Z",
     "shell.execute_reply.started": "2022-03-30T05:35:00.328615Z"
    },
    "papermill": {
     "duration": 0.10591,
     "end_time": "2022-03-30T05:35:53.700401",
     "exception": false,
     "start_time": "2022-03-30T05:35:53.594491",
     "status": "completed"
    },
    "tags": []
   },
   "outputs": [],
   "source": [
    "df = pd.read_csv(\"../input/iris-flower-dataset/IRIS.csv\")"
   ]
  },
  {
   "cell_type": "markdown",
   "id": "147f2c46",
   "metadata": {
    "papermill": {
     "duration": 0.081377,
     "end_time": "2022-03-30T05:35:53.865037",
     "exception": false,
     "start_time": "2022-03-30T05:35:53.783660",
     "status": "completed"
    },
    "tags": []
   },
   "source": [
    "Dataframemimizi görüntüleyelim:"
   ]
  },
  {
   "cell_type": "code",
   "execution_count": 3,
   "id": "e24be993",
   "metadata": {
    "execution": {
     "iopub.execute_input": "2022-03-30T05:35:54.032976Z",
     "iopub.status.busy": "2022-03-30T05:35:54.032330Z",
     "iopub.status.idle": "2022-03-30T05:35:54.058360Z",
     "shell.execute_reply": "2022-03-30T05:35:54.058872Z",
     "shell.execute_reply.started": "2022-03-30T05:35:00.346281Z"
    },
    "papermill": {
     "duration": 0.110551,
     "end_time": "2022-03-30T05:35:54.059060",
     "exception": false,
     "start_time": "2022-03-30T05:35:53.948509",
     "status": "completed"
    },
    "tags": []
   },
   "outputs": [
    {
     "data": {
      "text/html": [
       "<div>\n",
       "<style scoped>\n",
       "    .dataframe tbody tr th:only-of-type {\n",
       "        vertical-align: middle;\n",
       "    }\n",
       "\n",
       "    .dataframe tbody tr th {\n",
       "        vertical-align: top;\n",
       "    }\n",
       "\n",
       "    .dataframe thead th {\n",
       "        text-align: right;\n",
       "    }\n",
       "</style>\n",
       "<table border=\"1\" class=\"dataframe\">\n",
       "  <thead>\n",
       "    <tr style=\"text-align: right;\">\n",
       "      <th></th>\n",
       "      <th>sepal_length</th>\n",
       "      <th>sepal_width</th>\n",
       "      <th>petal_length</th>\n",
       "      <th>petal_width</th>\n",
       "      <th>species</th>\n",
       "    </tr>\n",
       "  </thead>\n",
       "  <tbody>\n",
       "    <tr>\n",
       "      <th>0</th>\n",
       "      <td>5.1</td>\n",
       "      <td>3.5</td>\n",
       "      <td>1.4</td>\n",
       "      <td>0.2</td>\n",
       "      <td>Iris-setosa</td>\n",
       "    </tr>\n",
       "    <tr>\n",
       "      <th>1</th>\n",
       "      <td>4.9</td>\n",
       "      <td>3.0</td>\n",
       "      <td>1.4</td>\n",
       "      <td>0.2</td>\n",
       "      <td>Iris-setosa</td>\n",
       "    </tr>\n",
       "    <tr>\n",
       "      <th>2</th>\n",
       "      <td>4.7</td>\n",
       "      <td>3.2</td>\n",
       "      <td>1.3</td>\n",
       "      <td>0.2</td>\n",
       "      <td>Iris-setosa</td>\n",
       "    </tr>\n",
       "    <tr>\n",
       "      <th>3</th>\n",
       "      <td>4.6</td>\n",
       "      <td>3.1</td>\n",
       "      <td>1.5</td>\n",
       "      <td>0.2</td>\n",
       "      <td>Iris-setosa</td>\n",
       "    </tr>\n",
       "    <tr>\n",
       "      <th>4</th>\n",
       "      <td>5.0</td>\n",
       "      <td>3.6</td>\n",
       "      <td>1.4</td>\n",
       "      <td>0.2</td>\n",
       "      <td>Iris-setosa</td>\n",
       "    </tr>\n",
       "    <tr>\n",
       "      <th>...</th>\n",
       "      <td>...</td>\n",
       "      <td>...</td>\n",
       "      <td>...</td>\n",
       "      <td>...</td>\n",
       "      <td>...</td>\n",
       "    </tr>\n",
       "    <tr>\n",
       "      <th>145</th>\n",
       "      <td>6.7</td>\n",
       "      <td>3.0</td>\n",
       "      <td>5.2</td>\n",
       "      <td>2.3</td>\n",
       "      <td>Iris-virginica</td>\n",
       "    </tr>\n",
       "    <tr>\n",
       "      <th>146</th>\n",
       "      <td>6.3</td>\n",
       "      <td>2.5</td>\n",
       "      <td>5.0</td>\n",
       "      <td>1.9</td>\n",
       "      <td>Iris-virginica</td>\n",
       "    </tr>\n",
       "    <tr>\n",
       "      <th>147</th>\n",
       "      <td>6.5</td>\n",
       "      <td>3.0</td>\n",
       "      <td>5.2</td>\n",
       "      <td>2.0</td>\n",
       "      <td>Iris-virginica</td>\n",
       "    </tr>\n",
       "    <tr>\n",
       "      <th>148</th>\n",
       "      <td>6.2</td>\n",
       "      <td>3.4</td>\n",
       "      <td>5.4</td>\n",
       "      <td>2.3</td>\n",
       "      <td>Iris-virginica</td>\n",
       "    </tr>\n",
       "    <tr>\n",
       "      <th>149</th>\n",
       "      <td>5.9</td>\n",
       "      <td>3.0</td>\n",
       "      <td>5.1</td>\n",
       "      <td>1.8</td>\n",
       "      <td>Iris-virginica</td>\n",
       "    </tr>\n",
       "  </tbody>\n",
       "</table>\n",
       "<p>150 rows × 5 columns</p>\n",
       "</div>"
      ],
      "text/plain": [
       "     sepal_length  sepal_width  petal_length  petal_width         species\n",
       "0             5.1          3.5           1.4          0.2     Iris-setosa\n",
       "1             4.9          3.0           1.4          0.2     Iris-setosa\n",
       "2             4.7          3.2           1.3          0.2     Iris-setosa\n",
       "3             4.6          3.1           1.5          0.2     Iris-setosa\n",
       "4             5.0          3.6           1.4          0.2     Iris-setosa\n",
       "..            ...          ...           ...          ...             ...\n",
       "145           6.7          3.0           5.2          2.3  Iris-virginica\n",
       "146           6.3          2.5           5.0          1.9  Iris-virginica\n",
       "147           6.5          3.0           5.2          2.0  Iris-virginica\n",
       "148           6.2          3.4           5.4          2.3  Iris-virginica\n",
       "149           5.9          3.0           5.1          1.8  Iris-virginica\n",
       "\n",
       "[150 rows x 5 columns]"
      ]
     },
     "execution_count": 3,
     "metadata": {},
     "output_type": "execute_result"
    }
   ],
   "source": [
    "df"
   ]
  },
  {
   "cell_type": "markdown",
   "id": "a4a7a279",
   "metadata": {
    "papermill": {
     "duration": 0.081679,
     "end_time": "2022-03-30T05:35:54.222237",
     "exception": false,
     "start_time": "2022-03-30T05:35:54.140558",
     "status": "completed"
    },
    "tags": []
   },
   "source": [
    "Veri çerçevesinin ilk 5 gözlemini görüntüleyelim."
   ]
  },
  {
   "cell_type": "code",
   "execution_count": 4,
   "id": "70ec1df1",
   "metadata": {
    "execution": {
     "iopub.execute_input": "2022-03-30T05:35:54.399745Z",
     "iopub.status.busy": "2022-03-30T05:35:54.389358Z",
     "iopub.status.idle": "2022-03-30T05:35:54.403471Z",
     "shell.execute_reply": "2022-03-30T05:35:54.402794Z",
     "shell.execute_reply.started": "2022-03-30T05:35:00.374132Z"
    },
    "papermill": {
     "duration": 0.099674,
     "end_time": "2022-03-30T05:35:54.403619",
     "exception": false,
     "start_time": "2022-03-30T05:35:54.303945",
     "status": "completed"
    },
    "tags": []
   },
   "outputs": [
    {
     "data": {
      "text/html": [
       "<div>\n",
       "<style scoped>\n",
       "    .dataframe tbody tr th:only-of-type {\n",
       "        vertical-align: middle;\n",
       "    }\n",
       "\n",
       "    .dataframe tbody tr th {\n",
       "        vertical-align: top;\n",
       "    }\n",
       "\n",
       "    .dataframe thead th {\n",
       "        text-align: right;\n",
       "    }\n",
       "</style>\n",
       "<table border=\"1\" class=\"dataframe\">\n",
       "  <thead>\n",
       "    <tr style=\"text-align: right;\">\n",
       "      <th></th>\n",
       "      <th>sepal_length</th>\n",
       "      <th>sepal_width</th>\n",
       "      <th>petal_length</th>\n",
       "      <th>petal_width</th>\n",
       "      <th>species</th>\n",
       "    </tr>\n",
       "  </thead>\n",
       "  <tbody>\n",
       "    <tr>\n",
       "      <th>0</th>\n",
       "      <td>5.1</td>\n",
       "      <td>3.5</td>\n",
       "      <td>1.4</td>\n",
       "      <td>0.2</td>\n",
       "      <td>Iris-setosa</td>\n",
       "    </tr>\n",
       "    <tr>\n",
       "      <th>1</th>\n",
       "      <td>4.9</td>\n",
       "      <td>3.0</td>\n",
       "      <td>1.4</td>\n",
       "      <td>0.2</td>\n",
       "      <td>Iris-setosa</td>\n",
       "    </tr>\n",
       "    <tr>\n",
       "      <th>2</th>\n",
       "      <td>4.7</td>\n",
       "      <td>3.2</td>\n",
       "      <td>1.3</td>\n",
       "      <td>0.2</td>\n",
       "      <td>Iris-setosa</td>\n",
       "    </tr>\n",
       "    <tr>\n",
       "      <th>3</th>\n",
       "      <td>4.6</td>\n",
       "      <td>3.1</td>\n",
       "      <td>1.5</td>\n",
       "      <td>0.2</td>\n",
       "      <td>Iris-setosa</td>\n",
       "    </tr>\n",
       "    <tr>\n",
       "      <th>4</th>\n",
       "      <td>5.0</td>\n",
       "      <td>3.6</td>\n",
       "      <td>1.4</td>\n",
       "      <td>0.2</td>\n",
       "      <td>Iris-setosa</td>\n",
       "    </tr>\n",
       "  </tbody>\n",
       "</table>\n",
       "</div>"
      ],
      "text/plain": [
       "   sepal_length  sepal_width  petal_length  petal_width      species\n",
       "0           5.1          3.5           1.4          0.2  Iris-setosa\n",
       "1           4.9          3.0           1.4          0.2  Iris-setosa\n",
       "2           4.7          3.2           1.3          0.2  Iris-setosa\n",
       "3           4.6          3.1           1.5          0.2  Iris-setosa\n",
       "4           5.0          3.6           1.4          0.2  Iris-setosa"
      ]
     },
     "execution_count": 4,
     "metadata": {},
     "output_type": "execute_result"
    }
   ],
   "source": [
    "df.head()"
   ]
  },
  {
   "cell_type": "markdown",
   "id": "fefc1064",
   "metadata": {
    "papermill": {
     "duration": 0.082741,
     "end_time": "2022-03-30T05:35:54.570800",
     "exception": false,
     "start_time": "2022-03-30T05:35:54.488059",
     "status": "completed"
    },
    "tags": []
   },
   "source": [
    "Veri çerçevesinin son 5 gözlemini inceleyelim"
   ]
  },
  {
   "cell_type": "code",
   "execution_count": 5,
   "id": "c98f02df",
   "metadata": {
    "execution": {
     "iopub.execute_input": "2022-03-30T05:35:54.741377Z",
     "iopub.status.busy": "2022-03-30T05:35:54.740389Z",
     "iopub.status.idle": "2022-03-30T05:35:54.753750Z",
     "shell.execute_reply": "2022-03-30T05:35:54.753249Z",
     "shell.execute_reply.started": "2022-03-30T05:35:00.389024Z"
    },
    "papermill": {
     "duration": 0.099775,
     "end_time": "2022-03-30T05:35:54.753893",
     "exception": false,
     "start_time": "2022-03-30T05:35:54.654118",
     "status": "completed"
    },
    "tags": []
   },
   "outputs": [
    {
     "data": {
      "text/html": [
       "<div>\n",
       "<style scoped>\n",
       "    .dataframe tbody tr th:only-of-type {\n",
       "        vertical-align: middle;\n",
       "    }\n",
       "\n",
       "    .dataframe tbody tr th {\n",
       "        vertical-align: top;\n",
       "    }\n",
       "\n",
       "    .dataframe thead th {\n",
       "        text-align: right;\n",
       "    }\n",
       "</style>\n",
       "<table border=\"1\" class=\"dataframe\">\n",
       "  <thead>\n",
       "    <tr style=\"text-align: right;\">\n",
       "      <th></th>\n",
       "      <th>sepal_length</th>\n",
       "      <th>sepal_width</th>\n",
       "      <th>petal_length</th>\n",
       "      <th>petal_width</th>\n",
       "      <th>species</th>\n",
       "    </tr>\n",
       "  </thead>\n",
       "  <tbody>\n",
       "    <tr>\n",
       "      <th>145</th>\n",
       "      <td>6.7</td>\n",
       "      <td>3.0</td>\n",
       "      <td>5.2</td>\n",
       "      <td>2.3</td>\n",
       "      <td>Iris-virginica</td>\n",
       "    </tr>\n",
       "    <tr>\n",
       "      <th>146</th>\n",
       "      <td>6.3</td>\n",
       "      <td>2.5</td>\n",
       "      <td>5.0</td>\n",
       "      <td>1.9</td>\n",
       "      <td>Iris-virginica</td>\n",
       "    </tr>\n",
       "    <tr>\n",
       "      <th>147</th>\n",
       "      <td>6.5</td>\n",
       "      <td>3.0</td>\n",
       "      <td>5.2</td>\n",
       "      <td>2.0</td>\n",
       "      <td>Iris-virginica</td>\n",
       "    </tr>\n",
       "    <tr>\n",
       "      <th>148</th>\n",
       "      <td>6.2</td>\n",
       "      <td>3.4</td>\n",
       "      <td>5.4</td>\n",
       "      <td>2.3</td>\n",
       "      <td>Iris-virginica</td>\n",
       "    </tr>\n",
       "    <tr>\n",
       "      <th>149</th>\n",
       "      <td>5.9</td>\n",
       "      <td>3.0</td>\n",
       "      <td>5.1</td>\n",
       "      <td>1.8</td>\n",
       "      <td>Iris-virginica</td>\n",
       "    </tr>\n",
       "  </tbody>\n",
       "</table>\n",
       "</div>"
      ],
      "text/plain": [
       "     sepal_length  sepal_width  petal_length  petal_width         species\n",
       "145           6.7          3.0           5.2          2.3  Iris-virginica\n",
       "146           6.3          2.5           5.0          1.9  Iris-virginica\n",
       "147           6.5          3.0           5.2          2.0  Iris-virginica\n",
       "148           6.2          3.4           5.4          2.3  Iris-virginica\n",
       "149           5.9          3.0           5.1          1.8  Iris-virginica"
      ]
     },
     "execution_count": 5,
     "metadata": {},
     "output_type": "execute_result"
    }
   ],
   "source": [
    "df.tail()"
   ]
  },
  {
   "cell_type": "markdown",
   "id": "316945f6",
   "metadata": {
    "papermill": {
     "duration": 0.085586,
     "end_time": "2022-03-30T05:35:54.923363",
     "exception": false,
     "start_time": "2022-03-30T05:35:54.837777",
     "status": "completed"
    },
    "tags": []
   },
   "source": [
    "Veri çerçevemizden rastgele 10 deeğere göz atalım:"
   ]
  },
  {
   "cell_type": "code",
   "execution_count": 6,
   "id": "e916d2f8",
   "metadata": {
    "execution": {
     "iopub.execute_input": "2022-03-30T05:35:55.100786Z",
     "iopub.status.busy": "2022-03-30T05:35:55.100079Z",
     "iopub.status.idle": "2022-03-30T05:35:55.113691Z",
     "shell.execute_reply": "2022-03-30T05:35:55.113129Z",
     "shell.execute_reply.started": "2022-03-30T05:35:00.404824Z"
    },
    "papermill": {
     "duration": 0.105071,
     "end_time": "2022-03-30T05:35:55.113849",
     "exception": false,
     "start_time": "2022-03-30T05:35:55.008778",
     "status": "completed"
    },
    "tags": []
   },
   "outputs": [
    {
     "data": {
      "text/html": [
       "<div>\n",
       "<style scoped>\n",
       "    .dataframe tbody tr th:only-of-type {\n",
       "        vertical-align: middle;\n",
       "    }\n",
       "\n",
       "    .dataframe tbody tr th {\n",
       "        vertical-align: top;\n",
       "    }\n",
       "\n",
       "    .dataframe thead th {\n",
       "        text-align: right;\n",
       "    }\n",
       "</style>\n",
       "<table border=\"1\" class=\"dataframe\">\n",
       "  <thead>\n",
       "    <tr style=\"text-align: right;\">\n",
       "      <th></th>\n",
       "      <th>sepal_length</th>\n",
       "      <th>sepal_width</th>\n",
       "      <th>petal_length</th>\n",
       "      <th>petal_width</th>\n",
       "      <th>species</th>\n",
       "    </tr>\n",
       "  </thead>\n",
       "  <tbody>\n",
       "    <tr>\n",
       "      <th>105</th>\n",
       "      <td>7.6</td>\n",
       "      <td>3.0</td>\n",
       "      <td>6.6</td>\n",
       "      <td>2.1</td>\n",
       "      <td>Iris-virginica</td>\n",
       "    </tr>\n",
       "    <tr>\n",
       "      <th>70</th>\n",
       "      <td>5.9</td>\n",
       "      <td>3.2</td>\n",
       "      <td>4.8</td>\n",
       "      <td>1.8</td>\n",
       "      <td>Iris-versicolor</td>\n",
       "    </tr>\n",
       "    <tr>\n",
       "      <th>88</th>\n",
       "      <td>5.6</td>\n",
       "      <td>3.0</td>\n",
       "      <td>4.1</td>\n",
       "      <td>1.3</td>\n",
       "      <td>Iris-versicolor</td>\n",
       "    </tr>\n",
       "    <tr>\n",
       "      <th>30</th>\n",
       "      <td>4.8</td>\n",
       "      <td>3.1</td>\n",
       "      <td>1.6</td>\n",
       "      <td>0.2</td>\n",
       "      <td>Iris-setosa</td>\n",
       "    </tr>\n",
       "    <tr>\n",
       "      <th>59</th>\n",
       "      <td>5.2</td>\n",
       "      <td>2.7</td>\n",
       "      <td>3.9</td>\n",
       "      <td>1.4</td>\n",
       "      <td>Iris-versicolor</td>\n",
       "    </tr>\n",
       "    <tr>\n",
       "      <th>122</th>\n",
       "      <td>7.7</td>\n",
       "      <td>2.8</td>\n",
       "      <td>6.7</td>\n",
       "      <td>2.0</td>\n",
       "      <td>Iris-virginica</td>\n",
       "    </tr>\n",
       "    <tr>\n",
       "      <th>89</th>\n",
       "      <td>5.5</td>\n",
       "      <td>2.5</td>\n",
       "      <td>4.0</td>\n",
       "      <td>1.3</td>\n",
       "      <td>Iris-versicolor</td>\n",
       "    </tr>\n",
       "    <tr>\n",
       "      <th>49</th>\n",
       "      <td>5.0</td>\n",
       "      <td>3.3</td>\n",
       "      <td>1.4</td>\n",
       "      <td>0.2</td>\n",
       "      <td>Iris-setosa</td>\n",
       "    </tr>\n",
       "    <tr>\n",
       "      <th>133</th>\n",
       "      <td>6.3</td>\n",
       "      <td>2.8</td>\n",
       "      <td>5.1</td>\n",
       "      <td>1.5</td>\n",
       "      <td>Iris-virginica</td>\n",
       "    </tr>\n",
       "    <tr>\n",
       "      <th>40</th>\n",
       "      <td>5.0</td>\n",
       "      <td>3.5</td>\n",
       "      <td>1.3</td>\n",
       "      <td>0.3</td>\n",
       "      <td>Iris-setosa</td>\n",
       "    </tr>\n",
       "  </tbody>\n",
       "</table>\n",
       "</div>"
      ],
      "text/plain": [
       "     sepal_length  sepal_width  petal_length  petal_width          species\n",
       "105           7.6          3.0           6.6          2.1   Iris-virginica\n",
       "70            5.9          3.2           4.8          1.8  Iris-versicolor\n",
       "88            5.6          3.0           4.1          1.3  Iris-versicolor\n",
       "30            4.8          3.1           1.6          0.2      Iris-setosa\n",
       "59            5.2          2.7           3.9          1.4  Iris-versicolor\n",
       "122           7.7          2.8           6.7          2.0   Iris-virginica\n",
       "89            5.5          2.5           4.0          1.3  Iris-versicolor\n",
       "49            5.0          3.3           1.4          0.2      Iris-setosa\n",
       "133           6.3          2.8           5.1          1.5   Iris-virginica\n",
       "40            5.0          3.5           1.3          0.3      Iris-setosa"
      ]
     },
     "execution_count": 6,
     "metadata": {},
     "output_type": "execute_result"
    }
   ],
   "source": [
    "df.sample(10)"
   ]
  },
  {
   "cell_type": "markdown",
   "id": "7e2e8dd7",
   "metadata": {
    "papermill": {
     "duration": 0.084453,
     "end_time": "2022-03-30T05:35:55.283367",
     "exception": false,
     "start_time": "2022-03-30T05:35:55.198914",
     "status": "completed"
    },
    "tags": []
   },
   "source": [
    "Veri çerçevesinin kaç öznitelik ve kaç gözlemden oluştuğunu görüntüleyelim."
   ]
  },
  {
   "cell_type": "code",
   "execution_count": 7,
   "id": "da2c6332",
   "metadata": {
    "execution": {
     "iopub.execute_input": "2022-03-30T05:35:55.458561Z",
     "iopub.status.busy": "2022-03-30T05:35:55.457882Z",
     "iopub.status.idle": "2022-03-30T05:35:55.462586Z",
     "shell.execute_reply": "2022-03-30T05:35:55.463189Z",
     "shell.execute_reply.started": "2022-03-30T05:35:00.424831Z"
    },
    "papermill": {
     "duration": 0.093995,
     "end_time": "2022-03-30T05:35:55.463375",
     "exception": false,
     "start_time": "2022-03-30T05:35:55.369380",
     "status": "completed"
    },
    "tags": []
   },
   "outputs": [
    {
     "data": {
      "text/plain": [
       "(150, 5)"
      ]
     },
     "execution_count": 7,
     "metadata": {},
     "output_type": "execute_result"
    }
   ],
   "source": [
    "df.shape"
   ]
  },
  {
   "cell_type": "markdown",
   "id": "ca1e0284",
   "metadata": {
    "papermill": {
     "duration": 0.083635,
     "end_time": "2022-03-30T05:35:55.632670",
     "exception": false,
     "start_time": "2022-03-30T05:35:55.549035",
     "status": "completed"
    },
    "tags": []
   },
   "source": [
    "Veri çerçevesindeki değişkenlerin hangi tipte olduğunu ve bellek kullanımını görüntüleyelim."
   ]
  },
  {
   "cell_type": "code",
   "execution_count": 8,
   "id": "5a860099",
   "metadata": {
    "execution": {
     "iopub.execute_input": "2022-03-30T05:35:55.804859Z",
     "iopub.status.busy": "2022-03-30T05:35:55.804173Z",
     "iopub.status.idle": "2022-03-30T05:35:55.825630Z",
     "shell.execute_reply": "2022-03-30T05:35:55.826263Z",
     "shell.execute_reply.started": "2022-03-30T05:35:00.433108Z"
    },
    "papermill": {
     "duration": 0.10898,
     "end_time": "2022-03-30T05:35:55.826476",
     "exception": false,
     "start_time": "2022-03-30T05:35:55.717496",
     "status": "completed"
    },
    "tags": []
   },
   "outputs": [
    {
     "name": "stdout",
     "output_type": "stream",
     "text": [
      "<class 'pandas.core.frame.DataFrame'>\n",
      "RangeIndex: 150 entries, 0 to 149\n",
      "Data columns (total 5 columns):\n",
      " #   Column        Non-Null Count  Dtype  \n",
      "---  ------        --------------  -----  \n",
      " 0   sepal_length  150 non-null    float64\n",
      " 1   sepal_width   150 non-null    float64\n",
      " 2   petal_length  150 non-null    float64\n",
      " 3   petal_width   150 non-null    float64\n",
      " 4   species       150 non-null    object \n",
      "dtypes: float64(4), object(1)\n",
      "memory usage: 6.0+ KB\n"
     ]
    }
   ],
   "source": [
    "df.info()"
   ]
  },
  {
   "cell_type": "markdown",
   "id": "039ba6eb",
   "metadata": {
    "papermill": {
     "duration": 0.084405,
     "end_time": "2022-03-30T05:35:55.995709",
     "exception": false,
     "start_time": "2022-03-30T05:35:55.911304",
     "status": "completed"
    },
    "tags": []
   },
   "source": [
    "Veri çerçevesindeki sayısal değişkenler için temel istatistik değerlerini görüntüleyelim.\n",
    "\n",
    "Standart sapma ve ortalama değerlerden çıkarımda bulunarak hangi değişkenlerin ne kadar varyansa sahip olduğu hakkında fikir yürütelim."
   ]
  },
  {
   "cell_type": "code",
   "execution_count": 9,
   "id": "15a9b80c",
   "metadata": {
    "execution": {
     "iopub.execute_input": "2022-03-30T05:35:56.169109Z",
     "iopub.status.busy": "2022-03-30T05:35:56.168430Z",
     "iopub.status.idle": "2022-03-30T05:35:56.194663Z",
     "shell.execute_reply": "2022-03-30T05:35:56.195190Z",
     "shell.execute_reply.started": "2022-03-30T05:35:00.457788Z"
    },
    "papermill": {
     "duration": 0.114442,
     "end_time": "2022-03-30T05:35:56.195369",
     "exception": false,
     "start_time": "2022-03-30T05:35:56.080927",
     "status": "completed"
    },
    "tags": []
   },
   "outputs": [
    {
     "data": {
      "text/html": [
       "<div>\n",
       "<style scoped>\n",
       "    .dataframe tbody tr th:only-of-type {\n",
       "        vertical-align: middle;\n",
       "    }\n",
       "\n",
       "    .dataframe tbody tr th {\n",
       "        vertical-align: top;\n",
       "    }\n",
       "\n",
       "    .dataframe thead th {\n",
       "        text-align: right;\n",
       "    }\n",
       "</style>\n",
       "<table border=\"1\" class=\"dataframe\">\n",
       "  <thead>\n",
       "    <tr style=\"text-align: right;\">\n",
       "      <th></th>\n",
       "      <th>count</th>\n",
       "      <th>mean</th>\n",
       "      <th>std</th>\n",
       "      <th>min</th>\n",
       "      <th>25%</th>\n",
       "      <th>50%</th>\n",
       "      <th>75%</th>\n",
       "      <th>max</th>\n",
       "    </tr>\n",
       "  </thead>\n",
       "  <tbody>\n",
       "    <tr>\n",
       "      <th>sepal_length</th>\n",
       "      <td>150.0</td>\n",
       "      <td>5.843333</td>\n",
       "      <td>0.828066</td>\n",
       "      <td>4.3</td>\n",
       "      <td>5.1</td>\n",
       "      <td>5.80</td>\n",
       "      <td>6.4</td>\n",
       "      <td>7.9</td>\n",
       "    </tr>\n",
       "    <tr>\n",
       "      <th>sepal_width</th>\n",
       "      <td>150.0</td>\n",
       "      <td>3.054000</td>\n",
       "      <td>0.433594</td>\n",
       "      <td>2.0</td>\n",
       "      <td>2.8</td>\n",
       "      <td>3.00</td>\n",
       "      <td>3.3</td>\n",
       "      <td>4.4</td>\n",
       "    </tr>\n",
       "    <tr>\n",
       "      <th>petal_length</th>\n",
       "      <td>150.0</td>\n",
       "      <td>3.758667</td>\n",
       "      <td>1.764420</td>\n",
       "      <td>1.0</td>\n",
       "      <td>1.6</td>\n",
       "      <td>4.35</td>\n",
       "      <td>5.1</td>\n",
       "      <td>6.9</td>\n",
       "    </tr>\n",
       "    <tr>\n",
       "      <th>petal_width</th>\n",
       "      <td>150.0</td>\n",
       "      <td>1.198667</td>\n",
       "      <td>0.763161</td>\n",
       "      <td>0.1</td>\n",
       "      <td>0.3</td>\n",
       "      <td>1.30</td>\n",
       "      <td>1.8</td>\n",
       "      <td>2.5</td>\n",
       "    </tr>\n",
       "  </tbody>\n",
       "</table>\n",
       "</div>"
      ],
      "text/plain": [
       "              count      mean       std  min  25%   50%  75%  max\n",
       "sepal_length  150.0  5.843333  0.828066  4.3  5.1  5.80  6.4  7.9\n",
       "sepal_width   150.0  3.054000  0.433594  2.0  2.8  3.00  3.3  4.4\n",
       "petal_length  150.0  3.758667  1.764420  1.0  1.6  4.35  5.1  6.9\n",
       "petal_width   150.0  1.198667  0.763161  0.1  0.3  1.30  1.8  2.5"
      ]
     },
     "execution_count": 9,
     "metadata": {},
     "output_type": "execute_result"
    }
   ],
   "source": [
    "df.describe().T"
   ]
  },
  {
   "cell_type": "code",
   "execution_count": 10,
   "id": "a600d12f",
   "metadata": {
    "execution": {
     "iopub.execute_input": "2022-03-30T05:35:56.372576Z",
     "iopub.status.busy": "2022-03-30T05:35:56.367896Z",
     "iopub.status.idle": "2022-03-30T05:35:56.376619Z",
     "shell.execute_reply": "2022-03-30T05:35:56.377281Z",
     "shell.execute_reply.started": "2022-03-30T05:35:00.488902Z"
    },
    "papermill": {
     "duration": 0.097746,
     "end_time": "2022-03-30T05:35:56.377464",
     "exception": false,
     "start_time": "2022-03-30T05:35:56.279718",
     "status": "completed"
    },
    "tags": []
   },
   "outputs": [
    {
     "name": "stderr",
     "output_type": "stream",
     "text": [
      "/opt/conda/lib/python3.7/site-packages/ipykernel_launcher.py:1: FutureWarning: Dropping of nuisance columns in DataFrame reductions (with 'numeric_only=None') is deprecated; in a future version this will raise TypeError.  Select only valid columns before calling the reduction.\n",
      "  \"\"\"Entry point for launching an IPython kernel.\n"
     ]
    },
    {
     "data": {
      "text/plain": [
       "sepal_length    0.685694\n",
       "sepal_width     0.188004\n",
       "petal_length    3.113179\n",
       "petal_width     0.582414\n",
       "dtype: float64"
      ]
     },
     "execution_count": 10,
     "metadata": {},
     "output_type": "execute_result"
    }
   ],
   "source": [
    "df.var()"
   ]
  },
  {
   "cell_type": "markdown",
   "id": "8577e820",
   "metadata": {
    "papermill": {
     "duration": 0.085076,
     "end_time": "2022-03-30T05:35:56.548784",
     "exception": false,
     "start_time": "2022-03-30T05:35:56.463708",
     "status": "completed"
    },
    "tags": []
   },
   "source": [
    "Veri çerçevesinde hangi öznitelikte kaç adet eksik değer olduğunu gözlemleyelim."
   ]
  },
  {
   "cell_type": "code",
   "execution_count": 11,
   "id": "91c68eac",
   "metadata": {
    "execution": {
     "iopub.execute_input": "2022-03-30T05:35:56.728041Z",
     "iopub.status.busy": "2022-03-30T05:35:56.727211Z",
     "iopub.status.idle": "2022-03-30T05:35:56.730449Z",
     "shell.execute_reply": "2022-03-30T05:35:56.730997Z",
     "shell.execute_reply.started": "2022-03-30T05:35:00.499987Z"
    },
    "papermill": {
     "duration": 0.096675,
     "end_time": "2022-03-30T05:35:56.731173",
     "exception": false,
     "start_time": "2022-03-30T05:35:56.634498",
     "status": "completed"
    },
    "tags": []
   },
   "outputs": [
    {
     "data": {
      "text/plain": [
       "sepal_length    0\n",
       "sepal_width     0\n",
       "petal_length    0\n",
       "petal_width     0\n",
       "species         0\n",
       "dtype: int64"
      ]
     },
     "execution_count": 11,
     "metadata": {},
     "output_type": "execute_result"
    }
   ],
   "source": [
    "df.isna().sum()"
   ]
  },
  {
   "cell_type": "markdown",
   "id": "a3bc31dd",
   "metadata": {
    "papermill": {
     "duration": 0.089779,
     "end_time": "2022-03-30T05:35:56.909532",
     "exception": false,
     "start_time": "2022-03-30T05:35:56.819753",
     "status": "completed"
    },
    "tags": []
   },
   "source": [
    "Sayısal değişkenler arasında korelasyon olup olmadığını göstermek için korelasyon matrisi çizdirelim. Korelasyon katsayıları hakkında fikir yürütelim.\n",
    "\n",
    "En güçlü pozitif ilişki hangi iki değişken arasındadır?"
   ]
  },
  {
   "cell_type": "code",
   "execution_count": 12,
   "id": "cc877bc9",
   "metadata": {
    "execution": {
     "iopub.execute_input": "2022-03-30T05:35:57.090185Z",
     "iopub.status.busy": "2022-03-30T05:35:57.089205Z",
     "iopub.status.idle": "2022-03-30T05:35:57.102143Z",
     "shell.execute_reply": "2022-03-30T05:35:57.102623Z",
     "shell.execute_reply.started": "2022-03-30T05:35:00.512914Z"
    },
    "papermill": {
     "duration": 0.106111,
     "end_time": "2022-03-30T05:35:57.102820",
     "exception": false,
     "start_time": "2022-03-30T05:35:56.996709",
     "status": "completed"
    },
    "tags": []
   },
   "outputs": [
    {
     "data": {
      "text/html": [
       "<div>\n",
       "<style scoped>\n",
       "    .dataframe tbody tr th:only-of-type {\n",
       "        vertical-align: middle;\n",
       "    }\n",
       "\n",
       "    .dataframe tbody tr th {\n",
       "        vertical-align: top;\n",
       "    }\n",
       "\n",
       "    .dataframe thead th {\n",
       "        text-align: right;\n",
       "    }\n",
       "</style>\n",
       "<table border=\"1\" class=\"dataframe\">\n",
       "  <thead>\n",
       "    <tr style=\"text-align: right;\">\n",
       "      <th></th>\n",
       "      <th>sepal_length</th>\n",
       "      <th>sepal_width</th>\n",
       "      <th>petal_length</th>\n",
       "      <th>petal_width</th>\n",
       "    </tr>\n",
       "  </thead>\n",
       "  <tbody>\n",
       "    <tr>\n",
       "      <th>sepal_length</th>\n",
       "      <td>1.000000</td>\n",
       "      <td>-0.109369</td>\n",
       "      <td>0.871754</td>\n",
       "      <td>0.817954</td>\n",
       "    </tr>\n",
       "    <tr>\n",
       "      <th>sepal_width</th>\n",
       "      <td>-0.109369</td>\n",
       "      <td>1.000000</td>\n",
       "      <td>-0.420516</td>\n",
       "      <td>-0.356544</td>\n",
       "    </tr>\n",
       "    <tr>\n",
       "      <th>petal_length</th>\n",
       "      <td>0.871754</td>\n",
       "      <td>-0.420516</td>\n",
       "      <td>1.000000</td>\n",
       "      <td>0.962757</td>\n",
       "    </tr>\n",
       "    <tr>\n",
       "      <th>petal_width</th>\n",
       "      <td>0.817954</td>\n",
       "      <td>-0.356544</td>\n",
       "      <td>0.962757</td>\n",
       "      <td>1.000000</td>\n",
       "    </tr>\n",
       "  </tbody>\n",
       "</table>\n",
       "</div>"
      ],
      "text/plain": [
       "              sepal_length  sepal_width  petal_length  petal_width\n",
       "sepal_length      1.000000    -0.109369      0.871754     0.817954\n",
       "sepal_width      -0.109369     1.000000     -0.420516    -0.356544\n",
       "petal_length      0.871754    -0.420516      1.000000     0.962757\n",
       "petal_width       0.817954    -0.356544      0.962757     1.000000"
      ]
     },
     "execution_count": 12,
     "metadata": {},
     "output_type": "execute_result"
    }
   ],
   "source": [
    "df.corr()"
   ]
  },
  {
   "cell_type": "markdown",
   "id": "4b7c5844",
   "metadata": {
    "papermill": {
     "duration": 0.088517,
     "end_time": "2022-03-30T05:35:57.280140",
     "exception": false,
     "start_time": "2022-03-30T05:35:57.191623",
     "status": "completed"
    },
    "tags": []
   },
   "source": [
    "Korelasyon katsayılarını daha iyi okuyabilmek için ısı haritası çizdirelim."
   ]
  },
  {
   "cell_type": "code",
   "execution_count": 13,
   "id": "0927e2ac",
   "metadata": {
    "execution": {
     "iopub.execute_input": "2022-03-30T05:35:57.461812Z",
     "iopub.status.busy": "2022-03-30T05:35:57.461143Z",
     "iopub.status.idle": "2022-03-30T05:35:57.772731Z",
     "shell.execute_reply": "2022-03-30T05:35:57.772200Z",
     "shell.execute_reply.started": "2022-03-30T05:35:00.532088Z"
    },
    "papermill": {
     "duration": 0.404785,
     "end_time": "2022-03-30T05:35:57.772886",
     "exception": false,
     "start_time": "2022-03-30T05:35:57.368101",
     "status": "completed"
    },
    "tags": []
   },
   "outputs": [
    {
     "data": {
      "image/png": "[encoded data removed]",
      "text/plain": [
       "<Figure size 432x288 with 2 Axes>"
      ]
     },
     "metadata": {
      "needs_background": "light"
     },
     "output_type": "display_data"
    }
   ],
   "source": [
    "corr = df.corr()\n",
    "sns.heatmap(corr,annot=True,fmt='.0%',\n",
    "            xticklabels=corr.columns.values,\n",
    "            yticklabels=corr.columns.values);"
   ]
  },
  {
   "cell_type": "markdown",
   "id": "8859625e",
   "metadata": {
    "papermill": {
     "duration": 0.088698,
     "end_time": "2022-03-30T05:35:57.950169",
     "exception": false,
     "start_time": "2022-03-30T05:35:57.861471",
     "status": "completed"
    },
    "tags": []
   },
   "source": [
    "Veri çerçevemizin hedef değişkeninin \"variety\" benzersiz değerlerini görüntüleyelim."
   ]
  },
  {
   "cell_type": "code",
   "execution_count": 14,
   "id": "83fb4576",
   "metadata": {
    "execution": {
     "iopub.execute_input": "2022-03-30T05:35:58.133292Z",
     "iopub.status.busy": "2022-03-30T05:35:58.132453Z",
     "iopub.status.idle": "2022-03-30T05:35:58.136014Z",
     "shell.execute_reply": "2022-03-30T05:35:58.136488Z",
     "shell.execute_reply.started": "2022-03-30T05:35:00.873262Z"
    },
    "papermill": {
     "duration": 0.097836,
     "end_time": "2022-03-30T05:35:58.136680",
     "exception": false,
     "start_time": "2022-03-30T05:35:58.038844",
     "status": "completed"
    },
    "tags": []
   },
   "outputs": [
    {
     "data": {
      "text/plain": [
       "array(['Iris-setosa', 'Iris-versicolor', 'Iris-virginica'], dtype=object)"
      ]
     },
     "execution_count": 14,
     "metadata": {},
     "output_type": "execute_result"
    }
   ],
   "source": [
    "df[\"species\"].unique() "
   ]
  },
  {
   "cell_type": "markdown",
   "id": "aff86589",
   "metadata": {
    "papermill": {
     "duration": 0.092615,
     "end_time": "2022-03-30T05:35:58.319754",
     "exception": false,
     "start_time": "2022-03-30T05:35:58.227139",
     "status": "completed"
    },
    "tags": []
   },
   "source": [
    "Veri çerçevemizin hedef değişkeninin \"variety\" benzersiz kaç adet değer içerdiğini görüntüleyelim."
   ]
  },
  {
   "cell_type": "code",
   "execution_count": 15,
   "id": "a85e5e33",
   "metadata": {
    "execution": {
     "iopub.execute_input": "2022-03-30T05:35:58.528322Z",
     "iopub.status.busy": "2022-03-30T05:35:58.527532Z",
     "iopub.status.idle": "2022-03-30T05:35:58.532394Z",
     "shell.execute_reply": "2022-03-30T05:35:58.533055Z",
     "shell.execute_reply.started": "2022-03-30T05:35:00.881011Z"
    },
    "papermill": {
     "duration": 0.122006,
     "end_time": "2022-03-30T05:35:58.533287",
     "exception": false,
     "start_time": "2022-03-30T05:35:58.411281",
     "status": "completed"
    },
    "tags": []
   },
   "outputs": [
    {
     "data": {
      "text/plain": [
       "3"
      ]
     },
     "execution_count": 15,
     "metadata": {},
     "output_type": "execute_result"
    }
   ],
   "source": [
    "df[\"species\"].nunique() "
   ]
  },
  {
   "cell_type": "markdown",
   "id": "d5a7638c",
   "metadata": {
    "papermill": {
     "duration": 0.098848,
     "end_time": "2022-03-30T05:35:58.730835",
     "exception": false,
     "start_time": "2022-03-30T05:35:58.631987",
     "status": "completed"
    },
    "tags": []
   },
   "source": [
    "Veri çerçevesindeki sepal.width ve sepal.length değişkenlerinin sürekli olduğunu görüyoruz. Bu iki sürekli veriyi görselleştirmek için önce scatterplot kullanalım."
   ]
  },
  {
   "cell_type": "code",
   "execution_count": 16,
   "id": "b6326d04",
   "metadata": {
    "execution": {
     "iopub.execute_input": "2022-03-30T05:35:58.929828Z",
     "iopub.status.busy": "2022-03-30T05:35:58.929106Z",
     "iopub.status.idle": "2022-03-30T05:35:59.182878Z",
     "shell.execute_reply": "2022-03-30T05:35:59.181511Z",
     "shell.execute_reply.started": "2022-03-30T05:35:00.893989Z"
    },
    "papermill": {
     "duration": 0.352717,
     "end_time": "2022-03-30T05:35:59.183113",
     "exception": false,
     "start_time": "2022-03-30T05:35:58.830396",
     "status": "completed"
    },
    "tags": []
   },
   "outputs": [
    {
     "data": {
      "image/png": "[encoded data removed]",
      "text/plain": [
       "<Figure size 432x288 with 1 Axes>"
      ]
     },
     "metadata": {
      "needs_background": "light"
     },
     "output_type": "display_data"
    }
   ],
   "source": [
    "sns.scatterplot(x = \"sepal_width\", y = \"sepal_length\",  data = df);"
   ]
  },
  {
   "cell_type": "markdown",
   "id": "56ea0f00",
   "metadata": {
    "papermill": {
     "duration": 0.089763,
     "end_time": "2022-03-30T05:35:59.372103",
     "exception": false,
     "start_time": "2022-03-30T05:35:59.282340",
     "status": "completed"
    },
    "tags": []
   },
   "source": [
    "Aynı iki veriyi daha farklı bir açıdan frekanslarıyla incelemek için jointplot kullanarak görselleştirelim. "
   ]
  },
  {
   "cell_type": "code",
   "execution_count": 17,
   "id": "07e72a93",
   "metadata": {
    "execution": {
     "iopub.execute_input": "2022-03-30T05:35:59.557022Z",
     "iopub.status.busy": "2022-03-30T05:35:59.556329Z",
     "iopub.status.idle": "2022-03-30T05:36:00.056084Z",
     "shell.execute_reply": "2022-03-30T05:36:00.056580Z",
     "shell.execute_reply.started": "2022-03-30T05:35:01.140300Z"
    },
    "papermill": {
     "duration": 0.594491,
     "end_time": "2022-03-30T05:36:00.056926",
     "exception": false,
     "start_time": "2022-03-30T05:35:59.462435",
     "status": "completed"
    },
    "tags": []
   },
   "outputs": [
    {
     "data": {
      "image/png": "[encoded data removed]",
      "text/plain": [
       "<Figure size 432x432 with 3 Axes>"
      ]
     },
     "metadata": {
      "needs_background": "light"
     },
     "output_type": "display_data"
    }
   ],
   "source": [
    "sns.jointplot(x = \"sepal_width\", y = \"sepal_length\", data = df, color=\"purple\");"
   ]
  },
  {
   "cell_type": "markdown",
   "id": "9323c750",
   "metadata": {
    "papermill": {
     "duration": 0.097076,
     "end_time": "2022-03-30T05:36:00.247237",
     "exception": false,
     "start_time": "2022-03-30T05:36:00.150161",
     "status": "completed"
    },
    "tags": []
   },
   "source": [
    "Aynı iki veriyi scatterplot ile tekrardan görselleştirelim fakat bu sefer \"variety\" parametresi ile hedef değişkenine göre kırdıralım. \n",
    "\n",
    "3 farklı renk arasında sepal değişkenleriyle bir kümeleme yapılabilir mi? Ne kadar ayırt edilebilir bunun üzerine düşünelim."
   ]
  },
  {
   "cell_type": "code",
   "execution_count": 18,
   "id": "4ddffe25",
   "metadata": {
    "execution": {
     "iopub.execute_input": "2022-03-30T05:36:00.433395Z",
     "iopub.status.busy": "2022-03-30T05:36:00.432729Z",
     "iopub.status.idle": "2022-03-30T05:36:00.740673Z",
     "shell.execute_reply": "2022-03-30T05:36:00.741207Z",
     "shell.execute_reply.started": "2022-03-30T05:35:01.725271Z"
    },
    "papermill": {
     "duration": 0.403885,
     "end_time": "2022-03-30T05:36:00.741383",
     "exception": false,
     "start_time": "2022-03-30T05:36:00.337498",
     "status": "completed"
    },
    "tags": []
   },
   "outputs": [
    {
     "data": {
      "image/png": "[encoded data removed]",
      "text/plain": [
       "<Figure size 432x288 with 1 Axes>"
      ]
     },
     "metadata": {
      "needs_background": "light"
     },
     "output_type": "display_data"
    }
   ],
   "source": [
    "sns.scatterplot(x = \"sepal_width\", y = \"sepal_length\", hue = \"species\", data = df);"
   ]
  },
  {
   "cell_type": "markdown",
   "id": "893c1868",
   "metadata": {
    "papermill": {
     "duration": 0.092521,
     "end_time": "2022-03-30T05:36:00.926627",
     "exception": false,
     "start_time": "2022-03-30T05:36:00.834106",
     "status": "completed"
    },
    "tags": []
   },
   "source": [
    "3 farklı renk arasında petal değişkenleriyle bir kümeleme yapalım:"
   ]
  },
  {
   "cell_type": "code",
   "execution_count": 19,
   "id": "abf06c89",
   "metadata": {
    "execution": {
     "iopub.execute_input": "2022-03-30T05:36:01.114743Z",
     "iopub.status.busy": "2022-03-30T05:36:01.114109Z",
     "iopub.status.idle": "2022-03-30T05:36:01.408043Z",
     "shell.execute_reply": "2022-03-30T05:36:01.407464Z",
     "shell.execute_reply.started": "2022-03-30T05:35:02.081380Z"
    },
    "papermill": {
     "duration": 0.389729,
     "end_time": "2022-03-30T05:36:01.408191",
     "exception": false,
     "start_time": "2022-03-30T05:36:01.018462",
     "status": "completed"
    },
    "tags": []
   },
   "outputs": [
    {
     "data": {
      "image/png": "[encoded data removed]",
      "text/plain": [
       "<Figure size 432x288 with 1 Axes>"
      ]
     },
     "metadata": {
      "needs_background": "light"
     },
     "output_type": "display_data"
    }
   ],
   "source": [
    "sns.scatterplot(x = \"petal_width\", y = \"petal_length\", hue = \"species\", data = df);"
   ]
  },
  {
   "cell_type": "markdown",
   "id": "51f39e0c",
   "metadata": {
    "papermill": {
     "duration": 0.093931,
     "end_time": "2022-03-30T05:36:01.596092",
     "exception": false,
     "start_time": "2022-03-30T05:36:01.502161",
     "status": "completed"
    },
    "tags": []
   },
   "source": [
    "value_counts() fonksiyonu ile veri çerçevemizin ne kadar dengeli dağıldığını sorgulayalım. "
   ]
  },
  {
   "cell_type": "code",
   "execution_count": 20,
   "id": "2ec8183b",
   "metadata": {
    "execution": {
     "iopub.execute_input": "2022-03-30T05:36:01.791497Z",
     "iopub.status.busy": "2022-03-30T05:36:01.790803Z",
     "iopub.status.idle": "2022-03-30T05:36:01.793427Z",
     "shell.execute_reply": "2022-03-30T05:36:01.793916Z",
     "shell.execute_reply.started": "2022-03-30T05:35:02.427404Z"
    },
    "papermill": {
     "duration": 0.104353,
     "end_time": "2022-03-30T05:36:01.794108",
     "exception": false,
     "start_time": "2022-03-30T05:36:01.689755",
     "status": "completed"
    },
    "tags": []
   },
   "outputs": [
    {
     "data": {
      "text/plain": [
       "Iris-setosa        50\n",
       "Iris-versicolor    50\n",
       "Iris-virginica     50\n",
       "Name: species, dtype: int64"
      ]
     },
     "execution_count": 20,
     "metadata": {},
     "output_type": "execute_result"
    }
   ],
   "source": [
    "df[\"species\"].value_counts()"
   ]
  },
  {
   "cell_type": "markdown",
   "id": "fdf8f428",
   "metadata": {
    "papermill": {
     "duration": 0.093572,
     "end_time": "2022-03-30T05:36:01.980516",
     "exception": false,
     "start_time": "2022-03-30T05:36:01.886944",
     "status": "completed"
    },
    "tags": []
   },
   "source": [
    "Keman grafiği çizdirerek sepal.width değişkeninin dağılımını inceleyin. \n",
    "\n",
    "Söz konusu dağılım bizim için ne ifade ediyor, normal bir dağılım olduğunu söyleyebilir miyiz?"
   ]
  },
  {
   "cell_type": "code",
   "execution_count": 21,
   "id": "56c0d03b",
   "metadata": {
    "execution": {
     "iopub.execute_input": "2022-03-30T05:36:02.175340Z",
     "iopub.status.busy": "2022-03-30T05:36:02.174615Z",
     "iopub.status.idle": "2022-03-30T05:36:02.319715Z",
     "shell.execute_reply": "2022-03-30T05:36:02.320655Z",
     "shell.execute_reply.started": "2022-03-30T05:35:02.440085Z"
    },
    "papermill": {
     "duration": 0.244523,
     "end_time": "2022-03-30T05:36:02.320980",
     "exception": false,
     "start_time": "2022-03-30T05:36:02.076457",
     "status": "completed"
    },
    "tags": []
   },
   "outputs": [
    {
     "data": {
      "image/png": "[encoded data removed]",
      "text/plain": [
       "<Figure size 432x288 with 1 Axes>"
      ]
     },
     "metadata": {
      "needs_background": "light"
     },
     "output_type": "display_data"
    }
   ],
   "source": [
    "sns.violinplot(y = \"sepal_width\", data = df);"
   ]
  },
  {
   "cell_type": "markdown",
   "id": "64fca624",
   "metadata": {
    "papermill": {
     "duration": 0.098739,
     "end_time": "2022-03-30T05:36:02.522942",
     "exception": false,
     "start_time": "2022-03-30T05:36:02.424203",
     "status": "completed"
    },
    "tags": []
   },
   "source": [
    "Daha iyi anlayabilmek için sepal.width üzerine bir distplot çizdirelim."
   ]
  },
  {
   "cell_type": "code",
   "execution_count": 22,
   "id": "6bb3bc23",
   "metadata": {
    "execution": {
     "iopub.execute_input": "2022-03-30T05:36:02.717251Z",
     "iopub.status.busy": "2022-03-30T05:36:02.716233Z",
     "iopub.status.idle": "2022-03-30T05:36:02.982216Z",
     "shell.execute_reply": "2022-03-30T05:36:02.982735Z",
     "shell.execute_reply.started": "2022-03-30T05:35:02.629548Z"
    },
    "papermill": {
     "duration": 0.365002,
     "end_time": "2022-03-30T05:36:02.982916",
     "exception": false,
     "start_time": "2022-03-30T05:36:02.617914",
     "status": "completed"
    },
    "tags": []
   },
   "outputs": [
    {
     "name": "stderr",
     "output_type": "stream",
     "text": [
      "/opt/conda/lib/python3.7/site-packages/seaborn/distributions.py:2619: FutureWarning: `distplot` is a deprecated function and will be removed in a future version. Please adapt your code to use either `displot` (a figure-level function with similar flexibility) or `histplot` (an axes-level function for histograms).\n",
      "  warnings.warn(msg, FutureWarning)\n"
     ]
    },
    {
     "data": {
      "image/png": "[encoded data removed]",
      "text/plain": [
       "<Figure size 432x288 with 1 Axes>"
      ]
     },
     "metadata": {
      "needs_background": "light"
     },
     "output_type": "display_data"
    }
   ],
   "source": [
    "sns.distplot(df[\"sepal_width\"],bins=16, color=\"blue\");"
   ]
  },
  {
   "cell_type": "markdown",
   "id": "eb9804a8",
   "metadata": {
    "papermill": {
     "duration": 0.097457,
     "end_time": "2022-03-30T05:36:03.175831",
     "exception": false,
     "start_time": "2022-03-30T05:36:03.078374",
     "status": "completed"
    },
    "tags": []
   },
   "source": [
    "Üç çiçek türü için üç farklı keman grafiğini sepal.length değişkeninin dağılımı üzerine tek bir satır ile görselleştirelim."
   ]
  },
  {
   "cell_type": "code",
   "execution_count": 23,
   "id": "86984930",
   "metadata": {
    "execution": {
     "iopub.execute_input": "2022-03-30T05:36:03.414522Z",
     "iopub.status.busy": "2022-03-30T05:36:03.413724Z",
     "iopub.status.idle": "2022-03-30T05:36:03.609781Z",
     "shell.execute_reply": "2022-03-30T05:36:03.609287Z",
     "shell.execute_reply.started": "2022-03-30T05:35:02.889077Z"
    },
    "papermill": {
     "duration": 0.312399,
     "end_time": "2022-03-30T05:36:03.609939",
     "exception": false,
     "start_time": "2022-03-30T05:36:03.297540",
     "status": "completed"
    },
    "tags": []
   },
   "outputs": [
    {
     "data": {
      "image/png": "[encoded data removed]",
      "text/plain": [
       "<Figure size 432x288 with 1 Axes>"
      ]
     },
     "metadata": {
      "needs_background": "light"
     },
     "output_type": "display_data"
    }
   ],
   "source": [
    "sns.violinplot(x = \"species\", y = \"sepal_length\", data = df);"
   ]
  },
  {
   "cell_type": "markdown",
   "id": "d8bb3c30",
   "metadata": {
    "papermill": {
     "duration": 0.096314,
     "end_time": "2022-03-30T05:36:03.803403",
     "exception": false,
     "start_time": "2022-03-30T05:36:03.707089",
     "status": "completed"
    },
    "tags": []
   },
   "source": [
    "Üç çiçek türü için üç farklı keman grafiğini sepal.width değişkeninin dağılımı üzerine tek bir satır ile görselleştirelim."
   ]
  },
  {
   "cell_type": "code",
   "execution_count": 24,
   "id": "939a1204",
   "metadata": {
    "execution": {
     "iopub.execute_input": "2022-03-30T05:36:04.005652Z",
     "iopub.status.busy": "2022-03-30T05:36:04.004982Z",
     "iopub.status.idle": "2022-03-30T05:36:04.339544Z",
     "shell.execute_reply": "2022-03-30T05:36:04.338605Z",
     "shell.execute_reply.started": "2022-03-30T05:35:03.162923Z"
    },
    "papermill": {
     "duration": 0.439796,
     "end_time": "2022-03-30T05:36:04.339701",
     "exception": false,
     "start_time": "2022-03-30T05:36:03.899905",
     "status": "completed"
    },
    "tags": []
   },
   "outputs": [
    {
     "data": {
      "image/png": "[encoded data removed]",
      "text/plain": [
       "<Figure size 432x288 with 1 Axes>"
      ]
     },
     "metadata": {
      "needs_background": "light"
     },
     "output_type": "display_data"
    }
   ],
   "source": [
    "sns.violinplot(x = \"species\", y = \"sepal_width\", data = df);"
   ]
  },
  {
   "cell_type": "markdown",
   "id": "caf90f52",
   "metadata": {
    "papermill": {
     "duration": 0.098585,
     "end_time": "2022-03-30T05:36:04.537715",
     "exception": false,
     "start_time": "2022-03-30T05:36:04.439130",
     "status": "completed"
    },
    "tags": []
   },
   "source": [
    "Üç çiçek türü için üç farklı keman grafiğini petal.length değişkeninin dağılımı üzerine tek bir satır ile görselleştirelim.\n"
   ]
  },
  {
   "cell_type": "code",
   "execution_count": 25,
   "id": "b7b5f665",
   "metadata": {
    "execution": {
     "iopub.execute_input": "2022-03-30T05:36:04.738705Z",
     "iopub.status.busy": "2022-03-30T05:36:04.738042Z",
     "iopub.status.idle": "2022-03-30T05:36:04.945188Z",
     "shell.execute_reply": "2022-03-30T05:36:04.944529Z",
     "shell.execute_reply.started": "2022-03-30T05:35:03.540643Z"
    },
    "papermill": {
     "duration": 0.309174,
     "end_time": "2022-03-30T05:36:04.945346",
     "exception": false,
     "start_time": "2022-03-30T05:36:04.636172",
     "status": "completed"
    },
    "tags": []
   },
   "outputs": [
    {
     "data": {
      "image/png": "[encoded data removed]",
      "text/plain": [
       "<Figure size 432x288 with 1 Axes>"
      ]
     },
     "metadata": {
      "needs_background": "light"
     },
     "output_type": "display_data"
    }
   ],
   "source": [
    "sns.violinplot(x = \"species\", y = \"petal_length\", data = df);"
   ]
  },
  {
   "cell_type": "markdown",
   "id": "4e4a784d",
   "metadata": {
    "papermill": {
     "duration": 0.102956,
     "end_time": "2022-03-30T05:36:05.147573",
     "exception": false,
     "start_time": "2022-03-30T05:36:05.044617",
     "status": "completed"
    },
    "tags": []
   },
   "source": [
    "Üç çiçek türü için üç farklı keman grafiğini petal.width değişkeninin dağılımı üzerine tek bir satır ile görselleştirelim.\n"
   ]
  },
  {
   "cell_type": "code",
   "execution_count": 26,
   "id": "dee4b362",
   "metadata": {
    "execution": {
     "iopub.execute_input": "2022-03-30T05:36:05.385846Z",
     "iopub.status.busy": "2022-03-30T05:36:05.379016Z",
     "iopub.status.idle": "2022-03-30T05:36:05.553652Z",
     "shell.execute_reply": "2022-03-30T05:36:05.554195Z",
     "shell.execute_reply.started": "2022-03-30T05:35:03.778054Z"
    },
    "papermill": {
     "duration": 0.304772,
     "end_time": "2022-03-30T05:36:05.554381",
     "exception": false,
     "start_time": "2022-03-30T05:36:05.249609",
     "status": "completed"
    },
    "tags": []
   },
   "outputs": [
    {
     "data": {
      "image/png": "[encoded data removed]",
      "text/plain": [
       "<Figure size 432x288 with 1 Axes>"
      ]
     },
     "metadata": {
      "needs_background": "light"
     },
     "output_type": "display_data"
    }
   ],
   "source": [
    "sns.violinplot(x = \"species\", y = \"petal_width\", data = df);"
   ]
  },
  {
   "cell_type": "markdown",
   "id": "556a2b55",
   "metadata": {
    "papermill": {
     "duration": 0.100284,
     "end_time": "2022-03-30T05:36:05.754638",
     "exception": false,
     "start_time": "2022-03-30T05:36:05.654354",
     "status": "completed"
    },
    "tags": []
   },
   "source": [
    "Hangi çiçek türünden kaçar adet gözlem barındırıyor veri çerçevemiz?\n",
    "\n",
    "50 x 3 olduğunu ve dengeli olduğunu value_counts ile zaten görmüştük, ancak bunu görsel olarak ifade etmek için sns.countplot() fonksiyonuna variety parametresini vereilm."
   ]
  },
  {
   "cell_type": "code",
   "execution_count": 27,
   "id": "80e8a727",
   "metadata": {
    "execution": {
     "iopub.execute_input": "2022-03-30T05:36:05.959854Z",
     "iopub.status.busy": "2022-03-30T05:36:05.959224Z",
     "iopub.status.idle": "2022-03-30T05:36:06.087278Z",
     "shell.execute_reply": "2022-03-30T05:36:06.086380Z",
     "shell.execute_reply.started": "2022-03-30T05:35:04.015423Z"
    },
    "papermill": {
     "duration": 0.232824,
     "end_time": "2022-03-30T05:36:06.087520",
     "exception": false,
     "start_time": "2022-03-30T05:36:05.854696",
     "status": "completed"
    },
    "tags": []
   },
   "outputs": [
    {
     "data": {
      "image/png": "[encoded data removed]",
      "text/plain": [
       "<Figure size 432x288 with 1 Axes>"
      ]
     },
     "metadata": {
      "needs_background": "light"
     },
     "output_type": "display_data"
    }
   ],
   "source": [
    "sns.countplot(x = \"species\", data = df);"
   ]
  },
  {
   "cell_type": "markdown",
   "id": "02366d7b",
   "metadata": {
    "papermill": {
     "duration": 0.100918,
     "end_time": "2022-03-30T05:36:06.302731",
     "exception": false,
     "start_time": "2022-03-30T05:36:06.201813",
     "status": "completed"
    },
    "tags": []
   },
   "source": [
    "sepal.length ve sepal.width değişkenlerini sns.jointplot ile görselleştirelim, dağılımı ve dağılımın frekansı yüksek olduğu bölgelerini inceleyelim."
   ]
  },
  {
   "cell_type": "code",
   "execution_count": 28,
   "id": "b976be54",
   "metadata": {
    "execution": {
     "iopub.execute_input": "2022-03-30T05:36:06.510551Z",
     "iopub.status.busy": "2022-03-30T05:36:06.509788Z",
     "iopub.status.idle": "2022-03-30T05:36:07.082878Z",
     "shell.execute_reply": "2022-03-30T05:36:07.083381Z",
     "shell.execute_reply.started": "2022-03-30T05:35:04.196228Z"
    },
    "papermill": {
     "duration": 0.67994,
     "end_time": "2022-03-30T05:36:07.083550",
     "exception": false,
     "start_time": "2022-03-30T05:36:06.403610",
     "status": "completed"
    },
    "tags": []
   },
   "outputs": [
    {
     "data": {
      "image/png": "[encoded data removed]",
      "text/plain": [
       "<Figure size 432x432 with 3 Axes>"
      ]
     },
     "metadata": {
      "needs_background": "light"
     },
     "output_type": "display_data"
    }
   ],
   "source": [
    "sns.jointplot(x=\"sepal_length\",y=\"sepal_width\",data=df,color=\"orange\");"
   ]
  },
  {
   "cell_type": "markdown",
   "id": "ec40a530",
   "metadata": {
    "papermill": {
     "duration": 0.101984,
     "end_time": "2022-03-30T05:36:07.291471",
     "exception": false,
     "start_time": "2022-03-30T05:36:07.189487",
     "status": "completed"
    },
    "tags": []
   },
   "source": [
    "Bir önceki hücrede yapmış olduğumuz görselleştirmeye kind = \"kde\" parametresini ekleyelim. Böylelikle dağılımın noktalı gösterimden çıkıp yoğunluk odaklı bir görselleştirmeye dönüştüğünü görmüş olacağız."
   ]
  },
  {
   "cell_type": "code",
   "execution_count": 29,
   "id": "08559277",
   "metadata": {
    "execution": {
     "iopub.execute_input": "2022-03-30T05:36:07.505756Z",
     "iopub.status.busy": "2022-03-30T05:36:07.505092Z",
     "iopub.status.idle": "2022-03-30T05:36:08.142481Z",
     "shell.execute_reply": "2022-03-30T05:36:08.141672Z",
     "shell.execute_reply.started": "2022-03-30T05:35:04.753568Z"
    },
    "papermill": {
     "duration": 0.74877,
     "end_time": "2022-03-30T05:36:08.142661",
     "exception": false,
     "start_time": "2022-03-30T05:36:07.393891",
     "status": "completed"
    },
    "tags": []
   },
   "outputs": [
    {
     "data": {
      "image/png": "[encoded data removed]",
      "text/plain": [
       "<Figure size 432x432 with 3 Axes>"
      ]
     },
     "metadata": {
      "needs_background": "light"
     },
     "output_type": "display_data"
    }
   ],
   "source": [
    "sns.jointplot(x=\"sepal_length\",y=\"sepal_width\",kind=\"kde\",data=df,color=\"orange\");"
   ]
  },
  {
   "cell_type": "markdown",
   "id": "addcfb95",
   "metadata": {
    "papermill": {
     "duration": 0.106736,
     "end_time": "2022-03-30T05:36:08.355806",
     "exception": false,
     "start_time": "2022-03-30T05:36:08.249070",
     "status": "completed"
    },
    "tags": []
   },
   "source": [
    "scatterplot ile petal.length ve petal.width değişkenlerinin dağılımlarını çizdirelim."
   ]
  },
  {
   "cell_type": "code",
   "execution_count": 30,
   "id": "faeceee1",
   "metadata": {
    "execution": {
     "iopub.execute_input": "2022-03-30T05:36:08.574777Z",
     "iopub.status.busy": "2022-03-30T05:36:08.574128Z",
     "iopub.status.idle": "2022-03-30T05:36:08.797629Z",
     "shell.execute_reply": "2022-03-30T05:36:08.796668Z",
     "shell.execute_reply.started": "2022-03-30T05:35:05.372789Z"
    },
    "papermill": {
     "duration": 0.332421,
     "end_time": "2022-03-30T05:36:08.797784",
     "exception": false,
     "start_time": "2022-03-30T05:36:08.465363",
     "status": "completed"
    },
    "tags": []
   },
   "outputs": [
    {
     "data": {
      "image/png": "[encoded data removed]",
      "text/plain": [
       "<Figure size 432x288 with 1 Axes>"
      ]
     },
     "metadata": {
      "needs_background": "light"
     },
     "output_type": "display_data"
    }
   ],
   "source": [
    "sns.scatterplot(x=\"petal_length\",y=\"petal_width\",data=df);"
   ]
  },
  {
   "cell_type": "markdown",
   "id": "0beffc28",
   "metadata": {
    "papermill": {
     "duration": 0.105273,
     "end_time": "2022-03-30T05:36:09.008444",
     "exception": false,
     "start_time": "2022-03-30T05:36:08.903171",
     "status": "completed"
    },
    "tags": []
   },
   "source": [
    "Aynı görselleştirmeye hue = \"variety\" parametresini ekleyerek 3. bir boyut verelim."
   ]
  },
  {
   "cell_type": "code",
   "execution_count": 31,
   "id": "14e1b912",
   "metadata": {
    "execution": {
     "iopub.execute_input": "2022-03-30T05:36:09.225151Z",
     "iopub.status.busy": "2022-03-30T05:36:09.224489Z",
     "iopub.status.idle": "2022-03-30T05:36:09.561527Z",
     "shell.execute_reply": "2022-03-30T05:36:09.562063Z",
     "shell.execute_reply.started": "2022-03-30T05:35:05.594265Z"
    },
    "papermill": {
     "duration": 0.448095,
     "end_time": "2022-03-30T05:36:09.562245",
     "exception": false,
     "start_time": "2022-03-30T05:36:09.114150",
     "status": "completed"
    },
    "tags": []
   },
   "outputs": [
    {
     "data": {
      "image/png": "[encoded data removed]",
      "text/plain": [
       "<Figure size 432x288 with 1 Axes>"
      ]
     },
     "metadata": {
      "needs_background": "light"
     },
     "output_type": "display_data"
    }
   ],
   "source": [
    "sns.scatterplot(x=\"petal_length\",y=\"petal_width\",hue=\"species\",data=df);"
   ]
  },
  {
   "cell_type": "markdown",
   "id": "fee78bec",
   "metadata": {
    "papermill": {
     "duration": 0.107757,
     "end_time": "2022-03-30T05:36:09.776951",
     "exception": false,
     "start_time": "2022-03-30T05:36:09.669194",
     "status": "completed"
    },
    "tags": []
   },
   "source": [
    "sns.lmplot() görselleştirmesini petal.length ve petal.width değişkenleriyle implemente edelim. Petal length ile petal width arasında ne tür bir ilişki var ve bu ilişki güçlü müdür? sorusunu yanıtlayalım."
   ]
  },
  {
   "cell_type": "code",
   "execution_count": 32,
   "id": "77a60daa",
   "metadata": {
    "execution": {
     "iopub.execute_input": "2022-03-30T05:36:09.996630Z",
     "iopub.status.busy": "2022-03-30T05:36:09.995924Z",
     "iopub.status.idle": "2022-03-30T05:36:10.446676Z",
     "shell.execute_reply": "2022-03-30T05:36:10.446056Z",
     "shell.execute_reply.started": "2022-03-30T05:35:05.926036Z"
    },
    "papermill": {
     "duration": 0.562256,
     "end_time": "2022-03-30T05:36:10.446850",
     "exception": false,
     "start_time": "2022-03-30T05:36:09.884594",
     "status": "completed"
    },
    "tags": []
   },
   "outputs": [
    {
     "data": {
      "image/png": "[encoded data removed]",
      "text/plain": [
       "<Figure size 360x360 with 1 Axes>"
      ]
     },
     "metadata": {
      "needs_background": "light"
     },
     "output_type": "display_data"
    }
   ],
   "source": [
    "sns.lmplot(x = \"petal_length\", y = \"petal_width\", data = df);"
   ]
  },
  {
   "cell_type": "markdown",
   "id": "f7156c34",
   "metadata": {
    "papermill": {
     "duration": 0.109898,
     "end_time": "2022-03-30T05:36:10.667117",
     "exception": false,
     "start_time": "2022-03-30T05:36:10.557219",
     "status": "completed"
    },
    "tags": []
   },
   "source": [
    "Bu sorunun yanıtını pekiştirmek için iki değişken arasında korelasyon katsayısını yazdıralım. "
   ]
  },
  {
   "cell_type": "code",
   "execution_count": 33,
   "id": "8194b10e",
   "metadata": {
    "execution": {
     "iopub.execute_input": "2022-03-30T05:36:10.893567Z",
     "iopub.status.busy": "2022-03-30T05:36:10.892866Z",
     "iopub.status.idle": "2022-03-30T05:36:10.895516Z",
     "shell.execute_reply": "2022-03-30T05:36:10.896108Z",
     "shell.execute_reply.started": "2022-03-30T05:35:06.352344Z"
    },
    "papermill": {
     "duration": 0.118948,
     "end_time": "2022-03-30T05:36:10.896296",
     "exception": false,
     "start_time": "2022-03-30T05:36:10.777348",
     "status": "completed"
    },
    "tags": []
   },
   "outputs": [
    {
     "data": {
      "text/plain": [
       "0.9627570970509662"
      ]
     },
     "execution_count": 33,
     "metadata": {},
     "output_type": "execute_result"
    }
   ],
   "source": [
    "df.corr()[\"petal_length\"][\"petal_width\"]"
   ]
  },
  {
   "cell_type": "markdown",
   "id": "5a5c6735",
   "metadata": {
    "papermill": {
     "duration": 0.108051,
     "end_time": "2022-03-30T05:36:11.112560",
     "exception": false,
     "start_time": "2022-03-30T05:36:11.004509",
     "status": "completed"
    },
    "tags": []
   },
   "source": [
    "Aynı değerlendirmeyi sepal_length ve sepal_width değişkenleri için inceleyelim\n"
   ]
  },
  {
   "cell_type": "code",
   "execution_count": 34,
   "id": "8f290d0c",
   "metadata": {
    "execution": {
     "iopub.execute_input": "2022-03-30T05:36:11.346476Z",
     "iopub.status.busy": "2022-03-30T05:36:11.345772Z",
     "iopub.status.idle": "2022-03-30T05:36:11.804180Z",
     "shell.execute_reply": "2022-03-30T05:36:11.804710Z",
     "shell.execute_reply.started": "2022-03-30T05:35:06.360792Z"
    },
    "papermill": {
     "duration": 0.584478,
     "end_time": "2022-03-30T05:36:11.804892",
     "exception": false,
     "start_time": "2022-03-30T05:36:11.220414",
     "status": "completed"
    },
    "tags": []
   },
   "outputs": [
    {
     "data": {
      "image/png": "[encoded data removed]",
      "text/plain": [
       "<Figure size 360x360 with 1 Axes>"
      ]
     },
     "metadata": {
      "needs_background": "light"
     },
     "output_type": "display_data"
    }
   ],
   "source": [
    "sns.lmplot(x = \"sepal_length\", y = \"sepal_width\", data = df);"
   ]
  },
  {
   "cell_type": "markdown",
   "id": "b4672389",
   "metadata": {
    "papermill": {
     "duration": 0.112579,
     "end_time": "2022-03-30T05:36:12.034511",
     "exception": false,
     "start_time": "2022-03-30T05:36:11.921932",
     "status": "completed"
    },
    "tags": []
   },
   "source": [
    "İki değişken arasındaki korelasyon katsıyısına bakalım."
   ]
  },
  {
   "cell_type": "code",
   "execution_count": 35,
   "id": "420ed80c",
   "metadata": {
    "execution": {
     "iopub.execute_input": "2022-03-30T05:36:12.262923Z",
     "iopub.status.busy": "2022-03-30T05:36:12.261948Z",
     "iopub.status.idle": "2022-03-30T05:36:12.266452Z",
     "shell.execute_reply": "2022-03-30T05:36:12.265741Z",
     "shell.execute_reply.started": "2022-03-30T05:35:06.817110Z"
    },
    "papermill": {
     "duration": 0.121278,
     "end_time": "2022-03-30T05:36:12.266630",
     "exception": false,
     "start_time": "2022-03-30T05:36:12.145352",
     "status": "completed"
    },
    "tags": []
   },
   "outputs": [
    {
     "data": {
      "text/plain": [
       "-0.10936924995064931"
      ]
     },
     "execution_count": 35,
     "metadata": {},
     "output_type": "execute_result"
    }
   ],
   "source": [
    "df.corr()[\"sepal_length\"][\"sepal_width\"]"
   ]
  },
  {
   "cell_type": "markdown",
   "id": "1188cc49",
   "metadata": {
    "papermill": {
     "duration": 0.112026,
     "end_time": "2022-03-30T05:36:12.493590",
     "exception": false,
     "start_time": "2022-03-30T05:36:12.381564",
     "status": "completed"
    },
    "tags": []
   },
   "source": [
    "Petal Length ile Sepal Length değerlerini toplayarak yeni bir total length özniteliği oluşturalım."
   ]
  },
  {
   "cell_type": "code",
   "execution_count": 36,
   "id": "eee79ee8",
   "metadata": {
    "execution": {
     "iopub.execute_input": "2022-03-30T05:36:12.719326Z",
     "iopub.status.busy": "2022-03-30T05:36:12.718245Z",
     "iopub.status.idle": "2022-03-30T05:36:12.724404Z",
     "shell.execute_reply": "2022-03-30T05:36:12.723797Z",
     "shell.execute_reply.started": "2022-03-30T05:35:06.825592Z"
    },
    "papermill": {
     "duration": 0.119951,
     "end_time": "2022-03-30T05:36:12.724562",
     "exception": false,
     "start_time": "2022-03-30T05:36:12.604611",
     "status": "completed"
    },
    "tags": []
   },
   "outputs": [],
   "source": [
    "df[\"total_length\"]=df[\"petal_length\"]+df[\"sepal_length\"]"
   ]
  },
  {
   "cell_type": "markdown",
   "id": "c0603a41",
   "metadata": {
    "papermill": {
     "duration": 0.110218,
     "end_time": "2022-03-30T05:36:12.945865",
     "exception": false,
     "start_time": "2022-03-30T05:36:12.835647",
     "status": "completed"
    },
    "tags": []
   },
   "source": [
    "total.length'in ortalama değerini yazdıralım. "
   ]
  },
  {
   "cell_type": "code",
   "execution_count": 37,
   "id": "290d0926",
   "metadata": {
    "execution": {
     "iopub.execute_input": "2022-03-30T05:36:13.173444Z",
     "iopub.status.busy": "2022-03-30T05:36:13.172378Z",
     "iopub.status.idle": "2022-03-30T05:36:13.179486Z",
     "shell.execute_reply": "2022-03-30T05:36:13.178947Z",
     "shell.execute_reply.started": "2022-03-30T05:35:06.836857Z"
    },
    "papermill": {
     "duration": 0.122933,
     "end_time": "2022-03-30T05:36:13.179633",
     "exception": false,
     "start_time": "2022-03-30T05:36:13.056700",
     "status": "completed"
    },
    "tags": []
   },
   "outputs": [
    {
     "data": {
      "text/plain": [
       "9.602000000000004"
      ]
     },
     "execution_count": 37,
     "metadata": {},
     "output_type": "execute_result"
    }
   ],
   "source": [
    "df[\"total_length\"].mean()"
   ]
  },
  {
   "cell_type": "markdown",
   "id": "938cdd15",
   "metadata": {
    "papermill": {
     "duration": 0.109636,
     "end_time": "2022-03-30T05:36:13.404458",
     "exception": false,
     "start_time": "2022-03-30T05:36:13.294822",
     "status": "completed"
    },
    "tags": []
   },
   "source": [
    "total.length'in standart sapma değerini yazdıralım."
   ]
  },
  {
   "cell_type": "code",
   "execution_count": 38,
   "id": "446aa7d8",
   "metadata": {
    "execution": {
     "iopub.execute_input": "2022-03-30T05:36:13.632943Z",
     "iopub.status.busy": "2022-03-30T05:36:13.632112Z",
     "iopub.status.idle": "2022-03-30T05:36:13.635422Z",
     "shell.execute_reply": "2022-03-30T05:36:13.635898Z",
     "shell.execute_reply.started": "2022-03-30T05:35:06.849864Z"
    },
    "papermill": {
     "duration": 0.120657,
     "end_time": "2022-03-30T05:36:13.636107",
     "exception": false,
     "start_time": "2022-03-30T05:36:13.515450",
     "status": "completed"
    },
    "tags": []
   },
   "outputs": [
    {
     "data": {
      "text/plain": [
       "2.5191739884121978"
      ]
     },
     "execution_count": 38,
     "metadata": {},
     "output_type": "execute_result"
    }
   ],
   "source": [
    "df[\"total_length\"].std()"
   ]
  },
  {
   "cell_type": "markdown",
   "id": "d566b9e5",
   "metadata": {
    "papermill": {
     "duration": 0.110826,
     "end_time": "2022-03-30T05:36:13.857586",
     "exception": false,
     "start_time": "2022-03-30T05:36:13.746760",
     "status": "completed"
    },
    "tags": []
   },
   "source": [
    "total.length'in maksimum değerini yazdıralım."
   ]
  },
  {
   "cell_type": "code",
   "execution_count": 39,
   "id": "a6004dbd",
   "metadata": {
    "execution": {
     "iopub.execute_input": "2022-03-30T05:36:14.084851Z",
     "iopub.status.busy": "2022-03-30T05:36:14.083860Z",
     "iopub.status.idle": "2022-03-30T05:36:14.089388Z",
     "shell.execute_reply": "2022-03-30T05:36:14.089851Z",
     "shell.execute_reply.started": "2022-03-30T05:35:06.861436Z"
    },
    "papermill": {
     "duration": 0.120875,
     "end_time": "2022-03-30T05:36:14.090047",
     "exception": false,
     "start_time": "2022-03-30T05:36:13.969172",
     "status": "completed"
    },
    "tags": []
   },
   "outputs": [
    {
     "data": {
      "text/plain": [
       "14.600000000000001"
      ]
     },
     "execution_count": 39,
     "metadata": {},
     "output_type": "execute_result"
    }
   ],
   "source": [
    "df[\"total_length\"].max()"
   ]
  },
  {
   "cell_type": "markdown",
   "id": "aeb81fb9",
   "metadata": {
    "papermill": {
     "duration": 0.143791,
     "end_time": "2022-03-30T05:36:14.344986",
     "exception": false,
     "start_time": "2022-03-30T05:36:14.201195",
     "status": "completed"
    },
    "tags": []
   },
   "source": [
    "Petal Width ile Sepal Width değerlerini toplayarak yeni bir total width özniteliği oluşturalım."
   ]
  },
  {
   "cell_type": "code",
   "execution_count": 40,
   "id": "53bcac5d",
   "metadata": {
    "execution": {
     "iopub.execute_input": "2022-03-30T05:36:14.579901Z",
     "iopub.status.busy": "2022-03-30T05:36:14.578886Z",
     "iopub.status.idle": "2022-03-30T05:36:14.583826Z",
     "shell.execute_reply": "2022-03-30T05:36:14.584313Z",
     "shell.execute_reply.started": "2022-03-30T05:35:06.871513Z"
    },
    "papermill": {
     "duration": 0.123148,
     "end_time": "2022-03-30T05:36:14.584499",
     "exception": false,
     "start_time": "2022-03-30T05:36:14.461351",
     "status": "completed"
    },
    "tags": []
   },
   "outputs": [],
   "source": [
    "df[\"total_width\"]=df[\"petal_width\"]+df[\"sepal_width\"]"
   ]
  },
  {
   "cell_type": "markdown",
   "id": "83869d19",
   "metadata": {
    "papermill": {
     "duration": 0.112947,
     "end_time": "2022-03-30T05:36:14.808445",
     "exception": false,
     "start_time": "2022-03-30T05:36:14.695498",
     "status": "completed"
    },
    "tags": []
   },
   "source": [
    "total.width'in ortalama değerini yazdıralım. "
   ]
  },
  {
   "cell_type": "code",
   "execution_count": 41,
   "id": "8e72c405",
   "metadata": {
    "execution": {
     "iopub.execute_input": "2022-03-30T05:36:15.037601Z",
     "iopub.status.busy": "2022-03-30T05:36:15.036726Z",
     "iopub.status.idle": "2022-03-30T05:36:15.040528Z",
     "shell.execute_reply": "2022-03-30T05:36:15.040016Z",
     "shell.execute_reply.started": "2022-03-30T05:35:06.882024Z"
    },
    "papermill": {
     "duration": 0.12119,
     "end_time": "2022-03-30T05:36:15.040666",
     "exception": false,
     "start_time": "2022-03-30T05:36:14.919476",
     "status": "completed"
    },
    "tags": []
   },
   "outputs": [
    {
     "data": {
      "text/plain": [
       "4.252666666666665"
      ]
     },
     "execution_count": 41,
     "metadata": {},
     "output_type": "execute_result"
    }
   ],
   "source": [
    "df[\"total_width\"].mean()"
   ]
  },
  {
   "cell_type": "markdown",
   "id": "9478022f",
   "metadata": {
    "papermill": {
     "duration": 0.110515,
     "end_time": "2022-03-30T05:36:15.265693",
     "exception": false,
     "start_time": "2022-03-30T05:36:15.155178",
     "status": "completed"
    },
    "tags": []
   },
   "source": [
    "total.width'in standart sapma değerini yazdıralım."
   ]
  },
  {
   "cell_type": "code",
   "execution_count": 42,
   "id": "7887a51d",
   "metadata": {
    "execution": {
     "iopub.execute_input": "2022-03-30T05:36:15.493660Z",
     "iopub.status.busy": "2022-03-30T05:36:15.492995Z",
     "iopub.status.idle": "2022-03-30T05:36:15.498096Z",
     "shell.execute_reply": "2022-03-30T05:36:15.498728Z",
     "shell.execute_reply.started": "2022-03-30T05:35:06.898296Z"
    },
    "papermill": {
     "duration": 0.12007,
     "end_time": "2022-03-30T05:36:15.498925",
     "exception": false,
     "start_time": "2022-03-30T05:36:15.378855",
     "status": "completed"
    },
    "tags": []
   },
   "outputs": [
    {
     "data": {
      "text/plain": [
       "0.7310649276306678"
      ]
     },
     "execution_count": 42,
     "metadata": {},
     "output_type": "execute_result"
    }
   ],
   "source": [
    "df[\"total_width\"].std()"
   ]
  },
  {
   "cell_type": "markdown",
   "id": "c133d643",
   "metadata": {
    "papermill": {
     "duration": 0.112189,
     "end_time": "2022-03-30T05:36:15.727592",
     "exception": false,
     "start_time": "2022-03-30T05:36:15.615403",
     "status": "completed"
    },
    "tags": []
   },
   "source": [
    "total.width'in maksimum değerini yazdıralım."
   ]
  },
  {
   "cell_type": "code",
   "execution_count": 43,
   "id": "2600e379",
   "metadata": {
    "execution": {
     "iopub.execute_input": "2022-03-30T05:36:15.957641Z",
     "iopub.status.busy": "2022-03-30T05:36:15.956977Z",
     "iopub.status.idle": "2022-03-30T05:36:15.959611Z",
     "shell.execute_reply": "2022-03-30T05:36:15.960059Z",
     "shell.execute_reply.started": "2022-03-30T05:35:06.910758Z"
    },
    "papermill": {
     "duration": 0.121061,
     "end_time": "2022-03-30T05:36:15.960230",
     "exception": false,
     "start_time": "2022-03-30T05:36:15.839169",
     "status": "completed"
    },
    "tags": []
   },
   "outputs": [
    {
     "data": {
      "text/plain": [
       "6.1"
      ]
     },
     "execution_count": 43,
     "metadata": {},
     "output_type": "execute_result"
    }
   ],
   "source": [
    "df[\"total_width\"].max()"
   ]
  },
  {
   "cell_type": "markdown",
   "id": "02bd8269",
   "metadata": {
    "papermill": {
     "duration": 0.11534,
     "end_time": "2022-03-30T05:36:16.188509",
     "exception": false,
     "start_time": "2022-03-30T05:36:16.073169",
     "status": "completed"
    },
    "tags": []
   },
   "source": [
    "Total length ile Total width değişkeni arasındaki korelasyon grafiğini çizelim"
   ]
  },
  {
   "cell_type": "code",
   "execution_count": 44,
   "id": "56a78964",
   "metadata": {
    "execution": {
     "iopub.execute_input": "2022-03-30T05:36:16.415227Z",
     "iopub.status.busy": "2022-03-30T05:36:16.414576Z",
     "iopub.status.idle": "2022-03-30T05:36:16.857281Z",
     "shell.execute_reply": "2022-03-30T05:36:16.857766Z",
     "shell.execute_reply.started": "2022-03-30T05:35:06.921816Z"
    },
    "papermill": {
     "duration": 0.557689,
     "end_time": "2022-03-30T05:36:16.857970",
     "exception": false,
     "start_time": "2022-03-30T05:36:16.300281",
     "status": "completed"
    },
    "tags": []
   },
   "outputs": [
    {
     "data": {
      "image/png": "[encoded data removed]",
      "text/plain": [
       "<Figure size 360x360 with 1 Axes>"
      ]
     },
     "metadata": {
      "needs_background": "light"
     },
     "output_type": "display_data"
    }
   ],
   "source": [
    "sns.lmplot(x = \"total_length\", y = \"total_width\", data = df);"
   ]
  },
  {
   "cell_type": "markdown",
   "id": "c89e3799",
   "metadata": {
    "papermill": {
     "duration": 0.114365,
     "end_time": "2022-03-30T05:36:17.086739",
     "exception": false,
     "start_time": "2022-03-30T05:36:16.972374",
     "status": "completed"
    },
    "tags": []
   },
   "source": [
    "Şimdi de iki değişken arasındaki korelasyon katsıyısını yazdıralım"
   ]
  },
  {
   "cell_type": "code",
   "execution_count": 45,
   "id": "970b8377",
   "metadata": {
    "execution": {
     "iopub.execute_input": "2022-03-30T05:36:17.321440Z",
     "iopub.status.busy": "2022-03-30T05:36:17.320740Z",
     "iopub.status.idle": "2022-03-30T05:36:17.328379Z",
     "shell.execute_reply": "2022-03-30T05:36:17.328855Z",
     "shell.execute_reply.started": "2022-03-30T05:35:07.352574Z"
    },
    "papermill": {
     "duration": 0.126468,
     "end_time": "2022-03-30T05:36:17.329080",
     "exception": false,
     "start_time": "2022-03-30T05:36:17.202612",
     "status": "completed"
    },
    "tags": []
   },
   "outputs": [
    {
     "data": {
      "text/plain": [
       "0.788579049906261"
      ]
     },
     "execution_count": 45,
     "metadata": {},
     "output_type": "execute_result"
    }
   ],
   "source": [
    "df.corr()[\"total_length\"][\"total_width\"]"
   ]
  },
  {
   "cell_type": "markdown",
   "id": "334eae5e",
   "metadata": {
    "papermill": {
     "duration": 0.114998,
     "end_time": "2022-03-30T05:36:17.559414",
     "exception": false,
     "start_time": "2022-03-30T05:36:17.444416",
     "status": "completed"
    },
    "tags": []
   },
   "source": [
    "sepal.length'i 5.5'den büyük ve türü setosa olan gözlemleri yazdıralım."
   ]
  },
  {
   "cell_type": "code",
   "execution_count": 46,
   "id": "6dad6e80",
   "metadata": {
    "execution": {
     "iopub.execute_input": "2022-03-30T05:36:17.794179Z",
     "iopub.status.busy": "2022-03-30T05:36:17.793503Z",
     "iopub.status.idle": "2022-03-30T05:36:17.808421Z",
     "shell.execute_reply": "2022-03-30T05:36:17.809041Z",
     "shell.execute_reply.started": "2022-03-30T05:35:07.361208Z"
    },
    "papermill": {
     "duration": 0.132933,
     "end_time": "2022-03-30T05:36:17.809221",
     "exception": false,
     "start_time": "2022-03-30T05:36:17.676288",
     "status": "completed"
    },
    "tags": []
   },
   "outputs": [
    {
     "data": {
      "text/html": [
       "<div>\n",
       "<style scoped>\n",
       "    .dataframe tbody tr th:only-of-type {\n",
       "        vertical-align: middle;\n",
       "    }\n",
       "\n",
       "    .dataframe tbody tr th {\n",
       "        vertical-align: top;\n",
       "    }\n",
       "\n",
       "    .dataframe thead th {\n",
       "        text-align: right;\n",
       "    }\n",
       "</style>\n",
       "<table border=\"1\" class=\"dataframe\">\n",
       "  <thead>\n",
       "    <tr style=\"text-align: right;\">\n",
       "      <th></th>\n",
       "      <th>sepal_length</th>\n",
       "      <th>sepal_width</th>\n",
       "      <th>petal_length</th>\n",
       "      <th>petal_width</th>\n",
       "      <th>species</th>\n",
       "      <th>total_length</th>\n",
       "      <th>total_width</th>\n",
       "    </tr>\n",
       "  </thead>\n",
       "  <tbody>\n",
       "    <tr>\n",
       "      <th>14</th>\n",
       "      <td>5.8</td>\n",
       "      <td>4.0</td>\n",
       "      <td>1.2</td>\n",
       "      <td>0.2</td>\n",
       "      <td>Iris-setosa</td>\n",
       "      <td>7.0</td>\n",
       "      <td>4.2</td>\n",
       "    </tr>\n",
       "    <tr>\n",
       "      <th>15</th>\n",
       "      <td>5.7</td>\n",
       "      <td>4.4</td>\n",
       "      <td>1.5</td>\n",
       "      <td>0.4</td>\n",
       "      <td>Iris-setosa</td>\n",
       "      <td>7.2</td>\n",
       "      <td>4.8</td>\n",
       "    </tr>\n",
       "    <tr>\n",
       "      <th>18</th>\n",
       "      <td>5.7</td>\n",
       "      <td>3.8</td>\n",
       "      <td>1.7</td>\n",
       "      <td>0.3</td>\n",
       "      <td>Iris-setosa</td>\n",
       "      <td>7.4</td>\n",
       "      <td>4.1</td>\n",
       "    </tr>\n",
       "  </tbody>\n",
       "</table>\n",
       "</div>"
      ],
      "text/plain": [
       "    sepal_length  sepal_width  petal_length  petal_width      species  \\\n",
       "14           5.8          4.0           1.2          0.2  Iris-setosa   \n",
       "15           5.7          4.4           1.5          0.4  Iris-setosa   \n",
       "18           5.7          3.8           1.7          0.3  Iris-setosa   \n",
       "\n",
       "    total_length  total_width  \n",
       "14           7.0          4.2  \n",
       "15           7.2          4.8  \n",
       "18           7.4          4.1  "
      ]
     },
     "execution_count": 46,
     "metadata": {},
     "output_type": "execute_result"
    }
   ],
   "source": [
    "df[(df['sepal_length']>5.5) & (df['species'] == \"Iris-setosa\")]\n"
   ]
  },
  {
   "cell_type": "markdown",
   "id": "1678e25d",
   "metadata": {
    "papermill": {
     "duration": 0.114319,
     "end_time": "2022-03-30T05:36:18.037696",
     "exception": false,
     "start_time": "2022-03-30T05:36:17.923377",
     "status": "completed"
    },
    "tags": []
   },
   "source": [
    "petal.length'i 5'den küçük ve türü virginica olan gözlemlerin sadece sepal.length ve sepal.width değişkenlerini ve değerlerini yazdıralım."
   ]
  },
  {
   "cell_type": "code",
   "execution_count": 47,
   "id": "4478f38e",
   "metadata": {
    "execution": {
     "iopub.execute_input": "2022-03-30T05:36:18.282839Z",
     "iopub.status.busy": "2022-03-30T05:36:18.281949Z",
     "iopub.status.idle": "2022-03-30T05:36:18.285403Z",
     "shell.execute_reply": "2022-03-30T05:36:18.285911Z",
     "shell.execute_reply.started": "2022-03-30T05:35:07.379743Z"
    },
    "papermill": {
     "duration": 0.132202,
     "end_time": "2022-03-30T05:36:18.286104",
     "exception": false,
     "start_time": "2022-03-30T05:36:18.153902",
     "status": "completed"
    },
    "tags": []
   },
   "outputs": [
    {
     "data": {
      "text/html": [
       "<div>\n",
       "<style scoped>\n",
       "    .dataframe tbody tr th:only-of-type {\n",
       "        vertical-align: middle;\n",
       "    }\n",
       "\n",
       "    .dataframe tbody tr th {\n",
       "        vertical-align: top;\n",
       "    }\n",
       "\n",
       "    .dataframe thead th {\n",
       "        text-align: right;\n",
       "    }\n",
       "</style>\n",
       "<table border=\"1\" class=\"dataframe\">\n",
       "  <thead>\n",
       "    <tr style=\"text-align: right;\">\n",
       "      <th></th>\n",
       "      <th>sepal_length</th>\n",
       "      <th>sepal_width</th>\n",
       "    </tr>\n",
       "  </thead>\n",
       "  <tbody>\n",
       "    <tr>\n",
       "      <th>106</th>\n",
       "      <td>4.9</td>\n",
       "      <td>2.5</td>\n",
       "    </tr>\n",
       "    <tr>\n",
       "      <th>121</th>\n",
       "      <td>5.6</td>\n",
       "      <td>2.8</td>\n",
       "    </tr>\n",
       "    <tr>\n",
       "      <th>123</th>\n",
       "      <td>6.3</td>\n",
       "      <td>2.7</td>\n",
       "    </tr>\n",
       "    <tr>\n",
       "      <th>126</th>\n",
       "      <td>6.2</td>\n",
       "      <td>2.8</td>\n",
       "    </tr>\n",
       "    <tr>\n",
       "      <th>127</th>\n",
       "      <td>6.1</td>\n",
       "      <td>3.0</td>\n",
       "    </tr>\n",
       "    <tr>\n",
       "      <th>138</th>\n",
       "      <td>6.0</td>\n",
       "      <td>3.0</td>\n",
       "    </tr>\n",
       "  </tbody>\n",
       "</table>\n",
       "</div>"
      ],
      "text/plain": [
       "     sepal_length  sepal_width\n",
       "106           4.9          2.5\n",
       "121           5.6          2.8\n",
       "123           6.3          2.7\n",
       "126           6.2          2.8\n",
       "127           6.1          3.0\n",
       "138           6.0          3.0"
      ]
     },
     "execution_count": 47,
     "metadata": {},
     "output_type": "execute_result"
    }
   ],
   "source": [
    "df[(df['petal_length']<5) & (df['species']==\"Iris-virginica\")].filter([\"sepal_length\", \"sepal_width\"])"
   ]
  },
  {
   "cell_type": "markdown",
   "id": "e12033a4",
   "metadata": {
    "papermill": {
     "duration": 0.119695,
     "end_time": "2022-03-30T05:36:18.524434",
     "exception": false,
     "start_time": "2022-03-30T05:36:18.404739",
     "status": "completed"
    },
    "tags": []
   },
   "source": [
    "Hedef değişkenimiz variety'e göre bir gruplama işlemi yapalım değişken değerlerimizin ortalamasını görüntüleyelim."
   ]
  },
  {
   "cell_type": "code",
   "execution_count": 48,
   "id": "d8b71d87",
   "metadata": {
    "execution": {
     "iopub.execute_input": "2022-03-30T05:36:18.764216Z",
     "iopub.status.busy": "2022-03-30T05:36:18.763489Z",
     "iopub.status.idle": "2022-03-30T05:36:18.774282Z",
     "shell.execute_reply": "2022-03-30T05:36:18.774994Z",
     "shell.execute_reply.started": "2022-03-30T05:35:07.398780Z"
    },
    "papermill": {
     "duration": 0.134538,
     "end_time": "2022-03-30T05:36:18.775249",
     "exception": false,
     "start_time": "2022-03-30T05:36:18.640711",
     "status": "completed"
    },
    "tags": []
   },
   "outputs": [
    {
     "data": {
      "text/html": [
       "<div>\n",
       "<style scoped>\n",
       "    .dataframe tbody tr th:only-of-type {\n",
       "        vertical-align: middle;\n",
       "    }\n",
       "\n",
       "    .dataframe tbody tr th {\n",
       "        vertical-align: top;\n",
       "    }\n",
       "\n",
       "    .dataframe thead th {\n",
       "        text-align: right;\n",
       "    }\n",
       "</style>\n",
       "<table border=\"1\" class=\"dataframe\">\n",
       "  <thead>\n",
       "    <tr style=\"text-align: right;\">\n",
       "      <th></th>\n",
       "      <th>sepal_length</th>\n",
       "      <th>sepal_width</th>\n",
       "      <th>petal_length</th>\n",
       "      <th>petal_width</th>\n",
       "      <th>total_length</th>\n",
       "      <th>total_width</th>\n",
       "    </tr>\n",
       "    <tr>\n",
       "      <th>species</th>\n",
       "      <th></th>\n",
       "      <th></th>\n",
       "      <th></th>\n",
       "      <th></th>\n",
       "      <th></th>\n",
       "      <th></th>\n",
       "    </tr>\n",
       "  </thead>\n",
       "  <tbody>\n",
       "    <tr>\n",
       "      <th>Iris-setosa</th>\n",
       "      <td>5.006</td>\n",
       "      <td>3.418</td>\n",
       "      <td>1.464</td>\n",
       "      <td>0.244</td>\n",
       "      <td>6.470</td>\n",
       "      <td>3.662</td>\n",
       "    </tr>\n",
       "    <tr>\n",
       "      <th>Iris-versicolor</th>\n",
       "      <td>5.936</td>\n",
       "      <td>2.770</td>\n",
       "      <td>4.260</td>\n",
       "      <td>1.326</td>\n",
       "      <td>10.196</td>\n",
       "      <td>4.096</td>\n",
       "    </tr>\n",
       "    <tr>\n",
       "      <th>Iris-virginica</th>\n",
       "      <td>6.588</td>\n",
       "      <td>2.974</td>\n",
       "      <td>5.552</td>\n",
       "      <td>2.026</td>\n",
       "      <td>12.140</td>\n",
       "      <td>5.000</td>\n",
       "    </tr>\n",
       "  </tbody>\n",
       "</table>\n",
       "</div>"
      ],
      "text/plain": [
       "                 sepal_length  sepal_width  petal_length  petal_width  \\\n",
       "species                                                                 \n",
       "Iris-setosa             5.006        3.418         1.464        0.244   \n",
       "Iris-versicolor         5.936        2.770         4.260        1.326   \n",
       "Iris-virginica          6.588        2.974         5.552        2.026   \n",
       "\n",
       "                 total_length  total_width  \n",
       "species                                     \n",
       "Iris-setosa             6.470        3.662  \n",
       "Iris-versicolor        10.196        4.096  \n",
       "Iris-virginica         12.140        5.000  "
      ]
     },
     "execution_count": 48,
     "metadata": {},
     "output_type": "execute_result"
    }
   ],
   "source": [
    "df.groupby([\"species\"]).mean()"
   ]
  },
  {
   "cell_type": "markdown",
   "id": "e3c32628",
   "metadata": {
    "papermill": {
     "duration": 0.116563,
     "end_time": "2022-03-30T05:36:19.007814",
     "exception": false,
     "start_time": "2022-03-30T05:36:18.891251",
     "status": "completed"
    },
    "tags": []
   },
   "source": [
    "Hedef değişkenimiz variety'e göre gruplama işlemi yaparak sadece petal.length değişkenimizin standart sapma değerlerini yazdıralım. "
   ]
  },
  {
   "cell_type": "code",
   "execution_count": 49,
   "id": "f81eac7b",
   "metadata": {
    "execution": {
     "iopub.execute_input": "2022-03-30T05:36:19.244737Z",
     "iopub.status.busy": "2022-03-30T05:36:19.244089Z",
     "iopub.status.idle": "2022-03-30T05:36:19.253410Z",
     "shell.execute_reply": "2022-03-30T05:36:19.253939Z",
     "shell.execute_reply.started": "2022-03-30T05:35:07.418368Z"
    },
    "papermill": {
     "duration": 0.130463,
     "end_time": "2022-03-30T05:36:19.254129",
     "exception": false,
     "start_time": "2022-03-30T05:36:19.123666",
     "status": "completed"
    },
    "tags": []
   },
   "outputs": [
    {
     "data": {
      "text/plain": [
       "species\n",
       "Iris-setosa        0.173511\n",
       "Iris-versicolor    0.469911\n",
       "Iris-virginica     0.551895\n",
       "Name: petal_length, dtype: float64"
      ]
     },
     "execution_count": 49,
     "metadata": {},
     "output_type": "execute_result"
    }
   ],
   "source": [
    "df.groupby([\"species\"])[\"petal_length\"].std()"
   ]
  },
  {
   "cell_type": "markdown",
   "id": "5eb7cadc",
   "metadata": {
    "papermill": {
     "duration": 0.115823,
     "end_time": "2022-03-30T05:36:19.486029",
     "exception": false,
     "start_time": "2022-03-30T05:36:19.370206",
     "status": "completed"
    },
    "tags": []
   },
   "source": [
    "Hedef değişkenimiz variety'e göre gruplama işlemi yaparak sadece petal.length değişkenimiz için temel istatistik değerlerini inceleyelim: \n"
   ]
  },
  {
   "cell_type": "code",
   "execution_count": 50,
   "id": "8374215f",
   "metadata": {
    "execution": {
     "iopub.execute_input": "2022-03-30T05:36:19.724733Z",
     "iopub.status.busy": "2022-03-30T05:36:19.724056Z",
     "iopub.status.idle": "2022-03-30T05:36:19.744991Z",
     "shell.execute_reply": "2022-03-30T05:36:19.745547Z",
     "shell.execute_reply.started": "2022-03-30T05:35:07.431597Z"
    },
    "papermill": {
     "duration": 0.144268,
     "end_time": "2022-03-30T05:36:19.745731",
     "exception": false,
     "start_time": "2022-03-30T05:36:19.601463",
     "status": "completed"
    },
    "tags": []
   },
   "outputs": [
    {
     "data": {
      "text/html": [
       "<div>\n",
       "<style scoped>\n",
       "    .dataframe tbody tr th:only-of-type {\n",
       "        vertical-align: middle;\n",
       "    }\n",
       "\n",
       "    .dataframe tbody tr th {\n",
       "        vertical-align: top;\n",
       "    }\n",
       "\n",
       "    .dataframe thead th {\n",
       "        text-align: right;\n",
       "    }\n",
       "</style>\n",
       "<table border=\"1\" class=\"dataframe\">\n",
       "  <thead>\n",
       "    <tr style=\"text-align: right;\">\n",
       "      <th></th>\n",
       "      <th>count</th>\n",
       "      <th>mean</th>\n",
       "      <th>std</th>\n",
       "      <th>min</th>\n",
       "      <th>25%</th>\n",
       "      <th>50%</th>\n",
       "      <th>75%</th>\n",
       "      <th>max</th>\n",
       "    </tr>\n",
       "    <tr>\n",
       "      <th>species</th>\n",
       "      <th></th>\n",
       "      <th></th>\n",
       "      <th></th>\n",
       "      <th></th>\n",
       "      <th></th>\n",
       "      <th></th>\n",
       "      <th></th>\n",
       "      <th></th>\n",
       "    </tr>\n",
       "  </thead>\n",
       "  <tbody>\n",
       "    <tr>\n",
       "      <th>Iris-setosa</th>\n",
       "      <td>50.0</td>\n",
       "      <td>1.464</td>\n",
       "      <td>0.173511</td>\n",
       "      <td>1.0</td>\n",
       "      <td>1.4</td>\n",
       "      <td>1.50</td>\n",
       "      <td>1.575</td>\n",
       "      <td>1.9</td>\n",
       "    </tr>\n",
       "    <tr>\n",
       "      <th>Iris-versicolor</th>\n",
       "      <td>50.0</td>\n",
       "      <td>4.260</td>\n",
       "      <td>0.469911</td>\n",
       "      <td>3.0</td>\n",
       "      <td>4.0</td>\n",
       "      <td>4.35</td>\n",
       "      <td>4.600</td>\n",
       "      <td>5.1</td>\n",
       "    </tr>\n",
       "    <tr>\n",
       "      <th>Iris-virginica</th>\n",
       "      <td>50.0</td>\n",
       "      <td>5.552</td>\n",
       "      <td>0.551895</td>\n",
       "      <td>4.5</td>\n",
       "      <td>5.1</td>\n",
       "      <td>5.55</td>\n",
       "      <td>5.875</td>\n",
       "      <td>6.9</td>\n",
       "    </tr>\n",
       "  </tbody>\n",
       "</table>\n",
       "</div>"
      ],
      "text/plain": [
       "                 count   mean       std  min  25%   50%    75%  max\n",
       "species                                                            \n",
       "Iris-setosa       50.0  1.464  0.173511  1.0  1.4  1.50  1.575  1.9\n",
       "Iris-versicolor   50.0  4.260  0.469911  3.0  4.0  4.35  4.600  5.1\n",
       "Iris-virginica    50.0  5.552  0.551895  4.5  5.1  5.55  5.875  6.9"
      ]
     },
     "execution_count": 50,
     "metadata": {},
     "output_type": "execute_result"
    }
   ],
   "source": [
    "df.groupby([\"species\"])[\"petal_length\"].describe()"
   ]
  },
  {
   "cell_type": "markdown",
   "id": "2993168a",
   "metadata": {
    "papermill": {
     "duration": 0.117725,
     "end_time": "2022-03-30T05:36:19.983441",
     "exception": false,
     "start_time": "2022-03-30T05:36:19.865716",
     "status": "completed"
    },
    "tags": []
   },
   "source": [
    "Hedef değişkenimiz variety'e göre gruplama işlemi yaparak sadece petal.width değişkenimiz için temel istatistik değerlerini inceleyelim: \n"
   ]
  },
  {
   "cell_type": "code",
   "execution_count": 51,
   "id": "ce06c958",
   "metadata": {
    "execution": {
     "iopub.execute_input": "2022-03-30T05:36:20.227522Z",
     "iopub.status.busy": "2022-03-30T05:36:20.226806Z",
     "iopub.status.idle": "2022-03-30T05:36:20.249286Z",
     "shell.execute_reply": "2022-03-30T05:36:20.248579Z",
     "shell.execute_reply.started": "2022-03-30T05:35:07.461833Z"
    },
    "papermill": {
     "duration": 0.147158,
     "end_time": "2022-03-30T05:36:20.249428",
     "exception": false,
     "start_time": "2022-03-30T05:36:20.102270",
     "status": "completed"
    },
    "tags": []
   },
   "outputs": [
    {
     "data": {
      "text/html": [
       "<div>\n",
       "<style scoped>\n",
       "    .dataframe tbody tr th:only-of-type {\n",
       "        vertical-align: middle;\n",
       "    }\n",
       "\n",
       "    .dataframe tbody tr th {\n",
       "        vertical-align: top;\n",
       "    }\n",
       "\n",
       "    .dataframe thead th {\n",
       "        text-align: right;\n",
       "    }\n",
       "</style>\n",
       "<table border=\"1\" class=\"dataframe\">\n",
       "  <thead>\n",
       "    <tr style=\"text-align: right;\">\n",
       "      <th></th>\n",
       "      <th>count</th>\n",
       "      <th>mean</th>\n",
       "      <th>std</th>\n",
       "      <th>min</th>\n",
       "      <th>25%</th>\n",
       "      <th>50%</th>\n",
       "      <th>75%</th>\n",
       "      <th>max</th>\n",
       "    </tr>\n",
       "    <tr>\n",
       "      <th>species</th>\n",
       "      <th></th>\n",
       "      <th></th>\n",
       "      <th></th>\n",
       "      <th></th>\n",
       "      <th></th>\n",
       "      <th></th>\n",
       "      <th></th>\n",
       "      <th></th>\n",
       "    </tr>\n",
       "  </thead>\n",
       "  <tbody>\n",
       "    <tr>\n",
       "      <th>Iris-setosa</th>\n",
       "      <td>50.0</td>\n",
       "      <td>0.244</td>\n",
       "      <td>0.107210</td>\n",
       "      <td>0.1</td>\n",
       "      <td>0.2</td>\n",
       "      <td>0.2</td>\n",
       "      <td>0.3</td>\n",
       "      <td>0.6</td>\n",
       "    </tr>\n",
       "    <tr>\n",
       "      <th>Iris-versicolor</th>\n",
       "      <td>50.0</td>\n",
       "      <td>1.326</td>\n",
       "      <td>0.197753</td>\n",
       "      <td>1.0</td>\n",
       "      <td>1.2</td>\n",
       "      <td>1.3</td>\n",
       "      <td>1.5</td>\n",
       "      <td>1.8</td>\n",
       "    </tr>\n",
       "    <tr>\n",
       "      <th>Iris-virginica</th>\n",
       "      <td>50.0</td>\n",
       "      <td>2.026</td>\n",
       "      <td>0.274650</td>\n",
       "      <td>1.4</td>\n",
       "      <td>1.8</td>\n",
       "      <td>2.0</td>\n",
       "      <td>2.3</td>\n",
       "      <td>2.5</td>\n",
       "    </tr>\n",
       "  </tbody>\n",
       "</table>\n",
       "</div>"
      ],
      "text/plain": [
       "                 count   mean       std  min  25%  50%  75%  max\n",
       "species                                                         \n",
       "Iris-setosa       50.0  0.244  0.107210  0.1  0.2  0.2  0.3  0.6\n",
       "Iris-versicolor   50.0  1.326  0.197753  1.0  1.2  1.3  1.5  1.8\n",
       "Iris-virginica    50.0  2.026  0.274650  1.4  1.8  2.0  2.3  2.5"
      ]
     },
     "execution_count": 51,
     "metadata": {},
     "output_type": "execute_result"
    }
   ],
   "source": [
    "df.groupby([\"species\"])[\"petal_width\"].describe()"
   ]
  },
  {
   "cell_type": "markdown",
   "id": "85764444",
   "metadata": {
    "papermill": {
     "duration": 0.116871,
     "end_time": "2022-03-30T05:36:20.483787",
     "exception": false,
     "start_time": "2022-03-30T05:36:20.366916",
     "status": "completed"
    },
    "tags": []
   },
   "source": [
    "Hedef değişkenimiz variety'e göre gruplama işlemi yaparak sadece sepal.length değişkenimiz için temel istatistik değerlerini inceleyelim: \n"
   ]
  },
  {
   "cell_type": "code",
   "execution_count": 52,
   "id": "3e826cd1",
   "metadata": {
    "execution": {
     "iopub.execute_input": "2022-03-30T05:36:20.727155Z",
     "iopub.status.busy": "2022-03-30T05:36:20.725146Z",
     "iopub.status.idle": "2022-03-30T05:36:20.745330Z",
     "shell.execute_reply": "2022-03-30T05:36:20.745793Z",
     "shell.execute_reply.started": "2022-03-30T05:35:07.487007Z"
    },
    "papermill": {
     "duration": 0.144759,
     "end_time": "2022-03-30T05:36:20.745985",
     "exception": false,
     "start_time": "2022-03-30T05:36:20.601226",
     "status": "completed"
    },
    "tags": []
   },
   "outputs": [
    {
     "data": {
      "text/html": [
       "<div>\n",
       "<style scoped>\n",
       "    .dataframe tbody tr th:only-of-type {\n",
       "        vertical-align: middle;\n",
       "    }\n",
       "\n",
       "    .dataframe tbody tr th {\n",
       "        vertical-align: top;\n",
       "    }\n",
       "\n",
       "    .dataframe thead th {\n",
       "        text-align: right;\n",
       "    }\n",
       "</style>\n",
       "<table border=\"1\" class=\"dataframe\">\n",
       "  <thead>\n",
       "    <tr style=\"text-align: right;\">\n",
       "      <th></th>\n",
       "      <th>count</th>\n",
       "      <th>mean</th>\n",
       "      <th>std</th>\n",
       "      <th>min</th>\n",
       "      <th>25%</th>\n",
       "      <th>50%</th>\n",
       "      <th>75%</th>\n",
       "      <th>max</th>\n",
       "    </tr>\n",
       "    <tr>\n",
       "      <th>species</th>\n",
       "      <th></th>\n",
       "      <th></th>\n",
       "      <th></th>\n",
       "      <th></th>\n",
       "      <th></th>\n",
       "      <th></th>\n",
       "      <th></th>\n",
       "      <th></th>\n",
       "    </tr>\n",
       "  </thead>\n",
       "  <tbody>\n",
       "    <tr>\n",
       "      <th>Iris-setosa</th>\n",
       "      <td>50.0</td>\n",
       "      <td>5.006</td>\n",
       "      <td>0.352490</td>\n",
       "      <td>4.3</td>\n",
       "      <td>4.800</td>\n",
       "      <td>5.0</td>\n",
       "      <td>5.2</td>\n",
       "      <td>5.8</td>\n",
       "    </tr>\n",
       "    <tr>\n",
       "      <th>Iris-versicolor</th>\n",
       "      <td>50.0</td>\n",
       "      <td>5.936</td>\n",
       "      <td>0.516171</td>\n",
       "      <td>4.9</td>\n",
       "      <td>5.600</td>\n",
       "      <td>5.9</td>\n",
       "      <td>6.3</td>\n",
       "      <td>7.0</td>\n",
       "    </tr>\n",
       "    <tr>\n",
       "      <th>Iris-virginica</th>\n",
       "      <td>50.0</td>\n",
       "      <td>6.588</td>\n",
       "      <td>0.635880</td>\n",
       "      <td>4.9</td>\n",
       "      <td>6.225</td>\n",
       "      <td>6.5</td>\n",
       "      <td>6.9</td>\n",
       "      <td>7.9</td>\n",
       "    </tr>\n",
       "  </tbody>\n",
       "</table>\n",
       "</div>"
      ],
      "text/plain": [
       "                 count   mean       std  min    25%  50%  75%  max\n",
       "species                                                           \n",
       "Iris-setosa       50.0  5.006  0.352490  4.3  4.800  5.0  5.2  5.8\n",
       "Iris-versicolor   50.0  5.936  0.516171  4.9  5.600  5.9  6.3  7.0\n",
       "Iris-virginica    50.0  6.588  0.635880  4.9  6.225  6.5  6.9  7.9"
      ]
     },
     "execution_count": 52,
     "metadata": {},
     "output_type": "execute_result"
    }
   ],
   "source": [
    "df.groupby([\"species\"])[\"sepal_length\"].describe()"
   ]
  },
  {
   "cell_type": "markdown",
   "id": "4e9c9699",
   "metadata": {
    "papermill": {
     "duration": 0.117739,
     "end_time": "2022-03-30T05:36:20.981977",
     "exception": false,
     "start_time": "2022-03-30T05:36:20.864238",
     "status": "completed"
    },
    "tags": []
   },
   "source": [
    "Hedef değişkenimiz variety'e göre gruplama işlemi yaparak sadece sepal.width değişkenimiz için temel istatistik değerlerini inceleyelim: \n"
   ]
  },
  {
   "cell_type": "code",
   "execution_count": 53,
   "id": "be6d099a",
   "metadata": {
    "execution": {
     "iopub.execute_input": "2022-03-30T05:36:21.223121Z",
     "iopub.status.busy": "2022-03-30T05:36:21.222395Z",
     "iopub.status.idle": "2022-03-30T05:36:21.244050Z",
     "shell.execute_reply": "2022-03-30T05:36:21.244579Z",
     "shell.execute_reply.started": "2022-03-30T05:35:07.511124Z"
    },
    "papermill": {
     "duration": 0.143507,
     "end_time": "2022-03-30T05:36:21.244762",
     "exception": false,
     "start_time": "2022-03-30T05:36:21.101255",
     "status": "completed"
    },
    "tags": []
   },
   "outputs": [
    {
     "data": {
      "text/html": [
       "<div>\n",
       "<style scoped>\n",
       "    .dataframe tbody tr th:only-of-type {\n",
       "        vertical-align: middle;\n",
       "    }\n",
       "\n",
       "    .dataframe tbody tr th {\n",
       "        vertical-align: top;\n",
       "    }\n",
       "\n",
       "    .dataframe thead th {\n",
       "        text-align: right;\n",
       "    }\n",
       "</style>\n",
       "<table border=\"1\" class=\"dataframe\">\n",
       "  <thead>\n",
       "    <tr style=\"text-align: right;\">\n",
       "      <th></th>\n",
       "      <th>count</th>\n",
       "      <th>mean</th>\n",
       "      <th>std</th>\n",
       "      <th>min</th>\n",
       "      <th>25%</th>\n",
       "      <th>50%</th>\n",
       "      <th>75%</th>\n",
       "      <th>max</th>\n",
       "    </tr>\n",
       "    <tr>\n",
       "      <th>species</th>\n",
       "      <th></th>\n",
       "      <th></th>\n",
       "      <th></th>\n",
       "      <th></th>\n",
       "      <th></th>\n",
       "      <th></th>\n",
       "      <th></th>\n",
       "      <th></th>\n",
       "    </tr>\n",
       "  </thead>\n",
       "  <tbody>\n",
       "    <tr>\n",
       "      <th>Iris-setosa</th>\n",
       "      <td>50.0</td>\n",
       "      <td>3.418</td>\n",
       "      <td>0.381024</td>\n",
       "      <td>2.3</td>\n",
       "      <td>3.125</td>\n",
       "      <td>3.4</td>\n",
       "      <td>3.675</td>\n",
       "      <td>4.4</td>\n",
       "    </tr>\n",
       "    <tr>\n",
       "      <th>Iris-versicolor</th>\n",
       "      <td>50.0</td>\n",
       "      <td>2.770</td>\n",
       "      <td>0.313798</td>\n",
       "      <td>2.0</td>\n",
       "      <td>2.525</td>\n",
       "      <td>2.8</td>\n",
       "      <td>3.000</td>\n",
       "      <td>3.4</td>\n",
       "    </tr>\n",
       "    <tr>\n",
       "      <th>Iris-virginica</th>\n",
       "      <td>50.0</td>\n",
       "      <td>2.974</td>\n",
       "      <td>0.322497</td>\n",
       "      <td>2.2</td>\n",
       "      <td>2.800</td>\n",
       "      <td>3.0</td>\n",
       "      <td>3.175</td>\n",
       "      <td>3.8</td>\n",
       "    </tr>\n",
       "  </tbody>\n",
       "</table>\n",
       "</div>"
      ],
      "text/plain": [
       "                 count   mean       std  min    25%  50%    75%  max\n",
       "species                                                             \n",
       "Iris-setosa       50.0  3.418  0.381024  2.3  3.125  3.4  3.675  4.4\n",
       "Iris-versicolor   50.0  2.770  0.313798  2.0  2.525  2.8  3.000  3.4\n",
       "Iris-virginica    50.0  2.974  0.322497  2.2  2.800  3.0  3.175  3.8"
      ]
     },
     "execution_count": 53,
     "metadata": {},
     "output_type": "execute_result"
    }
   ],
   "source": [
    "df.groupby([\"species\"])[\"sepal_width\"].describe()"
   ]
  },
  {
   "cell_type": "markdown",
   "id": "e978fce7",
   "metadata": {
    "papermill": {
     "duration": 0.117592,
     "end_time": "2022-03-30T05:36:21.481251",
     "exception": false,
     "start_time": "2022-03-30T05:36:21.363659",
     "status": "completed"
    },
    "tags": []
   },
   "source": [
    "Emeğiniz, ayırdığınız vakit ve ilginiz için teşekkürler."
   ]
  }
 ],
 "metadata": {
  "kernelspec": {
   "display_name": "Python 3",
   "language": "python",
   "name": "python3"
  },
  "language_info": {
   "codemirror_mode": {
    "name": "ipython",
    "version": 3
   },
   "file_extension": ".py",
   "mimetype": "text/x-python",
   "name": "python",
   "nbconvert_exporter": "python",
   "pygments_lexer": "ipython3",
   "version": "3.7.12"
  },
  "papermill": {
   "default_parameters": {},
   "duration": 40.585116,
   "end_time": "2022-03-30T05:36:22.311519",
   "environment_variables": {},
   "exception": null,
   "input_path": "__notebook__.ipynb",
   "output_path": "__notebook__.ipynb",
   "parameters": {},
   "start_time": "2022-03-30T05:35:41.726403",
   "version": "2.3.3"
  }
 },
 "nbformat": 4,
 "nbformat_minor": 5
}
